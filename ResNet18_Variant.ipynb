{
  "nbformat": 4,
  "nbformat_minor": 0,
  "metadata": {
    "colab": {
      "provenance": [],
      "gpuType": "L4"
    },
    "kernelspec": {
      "name": "python3",
      "display_name": "Python 3"
    },
    "language_info": {
      "name": "python"
    },
    "accelerator": "GPU"
  },
  "cells": [
    {
      "cell_type": "code",
      "execution_count": null,
      "metadata": {
        "id": "XlF3jXbxuES7"
      },
      "outputs": [],
      "source": [
        "import torch\n",
        "import torch.nn as nn\n",
        "import torch.optim as optim\n",
        "import torch.nn.functional as F\n",
        "import torchvision.transforms as transforms\n",
        "import torchvision.datasets as datasets\n",
        "from torch.utils.data import DataLoader, random_split\n",
        "from sklearn.model_selection import StratifiedShuffleSplit\n",
        "import numpy as np\n",
        "\n",
        "from tqdm import tqdm\n",
        "\n",
        "torch.random.manual_seed(42)\n",
        "np.random.seed(42)"
      ]
    },
    {
      "cell_type": "code",
      "source": [
        "class_to_superclass = {\n",
        "    49: 10, 33: 10, 72: 0, 51: 4, 71: 10, 92: 2, 15: 11, 14: 7, 23: 10,\n",
        "    0: 4, 75: 12, 81: 19, 69: 19, 40: 5, 43: 8, 97: 8, 70: 2, 53: 4, 29: 15,\n",
        "    21: 11, 16: 3, 39: 5, 8: 18, 20: 6, 61: 3, 41: 19, 93: 15, 56: 17, 73: 1,\n",
        "    58: 18, 11: 14, 25: 6, 37: 9, 63: 12, 24: 7, 22: 5, 17: 9, 4: 0, 6: 7, 9: 3,\n",
        "    57: 4, 2: 14, 32: 1, 52: 17, 42: 8, 77: 13, 27: 15, 65: 16, 7: 7, 35: 14, 82: 2,\n",
        "    66: 12, 90: 18, 67: 1, 91: 1, 10: 3, 78: 15, 54: 2, 89: 19, 18: 7, 13: 18, 50: 16,\n",
        "    26: 13, 83: 4, 47: 17, 95: 0, 76: 9, 59: 17, 85: 19, 19: 11, 46: 14, 1: 1, 74: 16,\n",
        "    60: 10, 64: 12, 45: 13, 36: 16, 87: 5, 30: 0, 99: 13, 80: 16, 28: 3, 98: 14, 12: 9,\n",
        "    94: 6, 68: 9, 44: 15, 31: 11, 79: 13, 34: 12, 55: 0, 62: 2, 96: 17, 84: 6, 38: 11,\n",
        "    86: 5, 5: 6, 48: 18, 3: 8, 88: 8\n",
        "}\n",
        "\n",
        "# Top-1 Accuracy\n",
        "def top1_accuracy(outputs, targets):\n",
        "    \"\"\"Compute the Top-1 accuracy\"\"\"\n",
        "    _, predicted = outputs.max(1)\n",
        "    correct = predicted.eq(targets).sum().item()\n",
        "    accuracy = correct / targets.size(0)\n",
        "    return accuracy * 100\n",
        "\n",
        "# Top-5 Accuracy\n",
        "def top5_accuracy(outputs, targets):\n",
        "    \"\"\"Compute the Top-5 accuracy\"\"\"\n",
        "    _, predicted = outputs.topk(5, dim=1)\n",
        "    correct = predicted.eq(targets.view(-1, 1).expand_as(predicted)).sum().item()\n",
        "    accuracy = correct / targets.size(0)\n",
        "    return accuracy * 100\n",
        "\n",
        "# Superclass Accuracy\n",
        "def superclass_accuracy(outputs, targets, class_to_superclass=class_to_superclass):\n",
        "    \"\"\"Compute the Superclass accuracy\"\"\"\n",
        "    _, predicted = outputs.max(1)\n",
        "    predicted_superclasses = torch.tensor([class_to_superclass[p.item()] for p in predicted])\n",
        "    target_superclasses = torch.tensor([class_to_superclass[t.item()] for t in targets])\n",
        "    correct = predicted_superclasses.eq(target_superclasses).sum().item()\n",
        "    accuracy = correct / targets.size(0)\n",
        "    return accuracy * 100"
      ],
      "metadata": {
        "id": "29sMhpF7zTWA"
      },
      "execution_count": null,
      "outputs": []
    },
    {
      "cell_type": "code",
      "source": [
        "import torch\n",
        "import torch.nn as nn\n",
        "import torch.optim as optim\n",
        "import torch.nn.functional as F\n",
        "from torch.utils.data import DataLoader\n",
        "from torchvision import datasets, transforms\n",
        "import numpy as np\n",
        "from sklearn.model_selection import StratifiedShuffleSplit\n",
        "from tqdm import tqdm\n",
        "\n",
        "class BasicBlock(nn.Module):\n",
        "    expansion = 1\n",
        "\n",
        "    def __init__(self, in_planes, planes, stride=1):\n",
        "        super(BasicBlock, self).__init__()\n",
        "        self.conv1 = nn.Conv2d(in_planes, planes, kernel_size=3, stride=stride, padding=1, bias=False)\n",
        "        self.bn1   = nn.BatchNorm2d(planes)\n",
        "        self.relu  = nn.ReLU(inplace=True)\n",
        "        self.conv2 = nn.Conv2d(planes, planes, kernel_size=3, stride=1, padding=1, bias=False)\n",
        "        self.bn2   = nn.BatchNorm2d(planes)\n",
        "\n",
        "        self.shortcut = nn.Sequential()\n",
        "        if stride !=1 or in_planes != planes * self.expansion:\n",
        "            self.shortcut = nn.Sequential(\n",
        "                nn.Conv2d(in_planes, planes * self.expansion, kernel_size=1, stride=stride, bias=False),\n",
        "                nn.BatchNorm2d(planes * self.expansion)\n",
        "            )\n",
        "\n",
        "    def forward(self, x):\n",
        "        identity = x\n",
        "        out = self.relu(self.bn1(self.conv1(x)))\n",
        "        out = self.bn2(self.conv2(out))\n",
        "        out += self.shortcut(identity)\n",
        "        out = self.relu(out)\n",
        "        return out\n",
        "\n",
        "class ResNet(nn.Module):\n",
        "    def __init__(self, block, num_blocks, num_classes=100):  # 设置为100类\n",
        "        super(ResNet, self).__init__()\n",
        "        self.in_planes = 64\n",
        "\n",
        "        self.conv1  = nn.Conv2d(3, 64, kernel_size=3, stride=1, padding=1, bias=False)\n",
        "        self.bn1    = nn.BatchNorm2d(64)\n",
        "        self.relu   = nn.ReLU(inplace=True)\n",
        "        self.layer1 = self._make_layer(block, 64,  num_blocks[0], stride=1)\n",
        "        self.layer2 = self._make_layer(block, 128, num_blocks[1], stride=2)\n",
        "        self.layer3 = self._make_layer(block, 256, num_blocks[2], stride=2)\n",
        "        self.layer4 = self._make_layer(block, 512, num_blocks[3], stride=2)\n",
        "        self.avgpool= nn.AdaptiveAvgPool2d((1,1))\n",
        "        self.fc     = nn.Linear(512 * block.expansion, num_classes)\n",
        "\n",
        "    def _make_layer(self, block, planes, num_blocks, stride):\n",
        "        strides = [stride] + [1]*(num_blocks - 1)\n",
        "        layers  = []\n",
        "        for stride in strides:\n",
        "            layers.append(block(self.in_planes, planes, stride))\n",
        "            self.in_planes = planes * block.expansion\n",
        "        return nn.Sequential(*layers)\n",
        "\n",
        "    def forward(self, x):\n",
        "        out = self.relu(self.bn1(self.conv1(x)))\n",
        "        out = self.layer1(out)\n",
        "        out = self.layer2(out)\n",
        "        out = self.layer3(out)\n",
        "        out = self.layer4(out)\n",
        "        out = self.avgpool(out)\n",
        "        out = torch.flatten(out, 1)\n",
        "        out = self.fc(out)\n",
        "        return out\n",
        "\n",
        "def ResNet18():\n",
        "    return ResNet(BasicBlock, [2,2,2,2])\n",
        "\n",
        "# Hyperparameters and settings\n",
        "batch_size = 64\n",
        "learning_rate = 1e-3\n",
        "weight_decay = 1e-4\n",
        "epochs = 200\n",
        "device = torch.device('cuda' if torch.cuda.is_available() else 'cpu')\n",
        "\n",
        "# Data Augmentation for Training\n",
        "train_transform = transforms.Compose([\n",
        "    transforms.RandomHorizontalFlip(),\n",
        "    transforms.RandomCrop(32, padding=4),\n",
        "    transforms.ToTensor(),\n",
        "    transforms.Normalize((0.5071, 0.4867, 0.4408),\n",
        "                         (0.2675, 0.2565, 0.2761)),\n",
        "])\n",
        "\n",
        "# Data Transformation for Validation (NO Augmentation)\n",
        "val_transform = transforms.Compose([\n",
        "    transforms.ToTensor(),\n",
        "    transforms.Normalize((0.5071, 0.4865, 0.4409), (0.2673, 0.2564, 0.2762)),\n",
        "])\n",
        "\n",
        "cifar100_full = datasets.CIFAR100(root='./data', train=True, download=True, transform=None)\n",
        "\n",
        "# Stratified split for train and validation\n",
        "targets = np.array(cifar100_full.targets)\n",
        "sss = StratifiedShuffleSplit(n_splits=1, test_size=0.1, random_state=42)\n",
        "train_indices, val_indices = next(sss.split(np.zeros(len(targets)), targets))\n",
        "\n",
        "# Create train and validation subsets with appropriate transformations\n",
        "train_dataset = torch.utils.data.Subset(datasets.CIFAR100(root='./data', train=True, download=True, transform=train_transform), train_indices)\n",
        "val_dataset = torch.utils.data.Subset(datasets.CIFAR100(root='./data', train=True, download=True, transform=val_transform), val_indices)\n",
        "\n",
        "train_loader = DataLoader(train_dataset, batch_size=batch_size, shuffle=True, num_workers=4)\n",
        "val_loader = DataLoader(val_dataset, batch_size=batch_size, shuffle=False, num_workers=4)\n",
        "\n",
        "# Model, loss function, and optimizer\n",
        "model = ResNet18().to(device)\n",
        "criterion = nn.CrossEntropyLoss()\n",
        "optimizer = optim.SGD(model.parameters(), lr=0.1, momentum=0.9, weight_decay=5e-4)\n",
        "scheduler = optim.lr_scheduler.StepLR(optimizer, step_size=20, gamma=0.1)\n",
        "\n",
        "# Define where to save your model\n",
        "best_model_path = 'best_model_resnet.pth'\n",
        "best_val_loss = float('inf')\n",
        "\n",
        "train_losses = []\n",
        "train_top1 = []\n",
        "train_top5 = []\n",
        "train_superclass = []\n",
        "\n",
        "val_losses = []\n",
        "val_top1 = []\n",
        "val_top5 = []\n",
        "val_superclass = []\n",
        "\n",
        "# Training and validation\n",
        "def train(epoch):\n",
        "    model.train()\n",
        "    train_loss, correct, total = 0, 0, 0\n",
        "    top1_acc, top5_acc, superclass_acc = 0, 0, 0\n",
        "    for inputs, targets in tqdm(train_loader):\n",
        "        inputs, targets = inputs.to(device), targets.to(device)\n",
        "        optimizer.zero_grad()\n",
        "        outputs = model(inputs)\n",
        "        loss = criterion(outputs, targets)\n",
        "        loss.backward()\n",
        "        optimizer.step()\n",
        "\n",
        "        train_loss += loss.item()\n",
        "        _, predicted = outputs.max(1)\n",
        "        total += targets.size(0)\n",
        "\n",
        "        # Calculate accuracies\n",
        "        top1_acc += top1_accuracy(outputs, targets)\n",
        "        top5_acc += top5_accuracy(outputs, targets)\n",
        "        superclass_acc += superclass_accuracy(outputs, targets, class_to_superclass)\n",
        "\n",
        "    # Calculate average accuracy over all batches\n",
        "    loss_avg = train_loss / len(train_loader)\n",
        "    top1_avg = top1_acc / len(train_loader)\n",
        "    top5_avg = top5_acc / len(train_loader)\n",
        "    superclass_avg = superclass_acc / len(train_loader)\n",
        "\n",
        "    train_losses.append(loss_avg)\n",
        "    train_top1.append(top1_avg)\n",
        "    train_top5.append(top5_avg)\n",
        "    train_superclass.append(superclass_avg)\n",
        "\n",
        "    print('')\n",
        "    print(f'Epoch {epoch} | Train Loss: {loss_avg:.4f} | Top-1 Acc: {top1_avg:.2f}% | Top-5 Acc: {top5_avg:.2f}% | Superclass Acc: {superclass_avg:.2f}%', end=' ')\n",
        "\n",
        "def validate(epoch):\n",
        "    global best_val_loss\n",
        "    model.eval()\n",
        "    val_loss, correct, total = 0, 0, 0\n",
        "    top1_acc, top5_acc, superclass_acc = 0, 0, 0\n",
        "\n",
        "    with torch.no_grad():\n",
        "        for inputs, targets in val_loader:\n",
        "            inputs, targets = inputs.to(device), targets.to(device)\n",
        "            outputs = model(inputs)\n",
        "            loss = criterion(outputs, targets)\n",
        "\n",
        "            val_loss += loss.item()\n",
        "            _, predicted = outputs.max(1)\n",
        "            total += targets.size(0)\n",
        "\n",
        "            # Calculate accuracies\n",
        "            top1_acc += top1_accuracy(outputs, targets)\n",
        "            top5_acc += top5_accuracy(outputs, targets)\n",
        "            superclass_acc += superclass_accuracy(outputs, targets, class_to_superclass)\n",
        "\n",
        "    # Calculate average accuracy over all batches\n",
        "    loss_avg = val_loss / len(val_loader)\n",
        "    top1_avg = top1_acc / len(val_loader)\n",
        "    top5_avg = top5_acc / len(val_loader)\n",
        "    superclass_avg = superclass_acc / len(val_loader)\n",
        "\n",
        "    val_losses.append(loss_avg)\n",
        "    val_top1.append(top1_avg)\n",
        "    val_top5.append(top5_avg)\n",
        "    val_superclass.append(superclass_avg)\n",
        "\n",
        "    print(f'| Val Loss: {loss_avg:.4f} | Top-1 Acc: {top1_avg:.2f}% | Top-5 Acc: {top5_avg:.2f}% | Superclass Acc: {superclass_avg:.2f}%')\n",
        "    # Checkpoint: Save model if validation loss is the best seen so far\n",
        "    if loss_avg < best_val_loss:\n",
        "        print(f'Validation loss improved by {(best_val_loss - loss_avg):.4f}. Saving model...')\n",
        "        best_val_loss = loss_avg\n",
        "        torch.save(model.state_dict(), best_model_path)\n",
        "\n",
        "for epoch in range(1, epochs + 1):\n",
        "    train(epoch)\n",
        "    validate(epoch)\n",
        "    scheduler.step()\n",
        "\n",
        "torch.save(model.state_dict(), 'resnet_variant_cifar100.pth')"
      ],
      "metadata": {
        "colab": {
          "base_uri": "https://localhost:8080/"
        },
        "id": "1iufI71LuHyQ",
        "outputId": "90806250-8b4d-468e-9df5-5068e88b2f07"
      },
      "execution_count": null,
      "outputs": [
        {
          "output_type": "stream",
          "name": "stdout",
          "text": [
            "Downloading https://www.cs.toronto.edu/~kriz/cifar-100-python.tar.gz to ./data/cifar-100-python.tar.gz\n"
          ]
        },
        {
          "output_type": "stream",
          "name": "stderr",
          "text": [
            "100%|██████████| 169001437/169001437 [00:18<00:00, 9101471.11it/s]\n"
          ]
        },
        {
          "output_type": "stream",
          "name": "stdout",
          "text": [
            "Extracting ./data/cifar-100-python.tar.gz to ./data\n",
            "Files already downloaded and verified\n",
            "Files already downloaded and verified\n"
          ]
        },
        {
          "output_type": "stream",
          "name": "stderr",
          "text": [
            "100%|██████████| 625/625 [00:21<00:00, 29.43it/s]"
          ]
        },
        {
          "output_type": "stream",
          "name": "stdout",
          "text": [
            "\n",
            "Epoch 1 | Train Loss: 4.1035 | Top-1 Acc: 7.51% | Top-5 Acc: 24.66% | Superclass Acc: 18.10% "
          ]
        },
        {
          "output_type": "stream",
          "name": "stderr",
          "text": [
            "\n"
          ]
        },
        {
          "output_type": "stream",
          "name": "stdout",
          "text": [
            "| Val Loss: 3.5874 | Top-1 Acc: 13.94% | Top-5 Acc: 39.17% | Superclass Acc: 28.33%\n",
            "Validation loss improved by inf. Saving model...\n"
          ]
        },
        {
          "output_type": "stream",
          "name": "stderr",
          "text": [
            "100%|██████████| 625/625 [00:19<00:00, 32.48it/s]"
          ]
        },
        {
          "output_type": "stream",
          "name": "stdout",
          "text": [
            "\n",
            "Epoch 2 | Train Loss: 3.6118 | Top-1 Acc: 14.57% | Top-5 Acc: 39.31% | Superclass Acc: 27.40% "
          ]
        },
        {
          "output_type": "stream",
          "name": "stderr",
          "text": [
            "\n"
          ]
        },
        {
          "output_type": "stream",
          "name": "stdout",
          "text": [
            "| Val Loss: 3.4126 | Top-1 Acc: 18.25% | Top-5 Acc: 45.99% | Superclass Acc: 32.00%\n",
            "Validation loss improved by 0.1747. Saving model...\n"
          ]
        },
        {
          "output_type": "stream",
          "name": "stderr",
          "text": [
            "100%|██████████| 625/625 [00:19<00:00, 32.55it/s]"
          ]
        },
        {
          "output_type": "stream",
          "name": "stdout",
          "text": [
            "\n",
            "Epoch 3 | Train Loss: 3.3189 | Top-1 Acc: 19.26% | Top-5 Acc: 47.18% | Superclass Acc: 32.86% "
          ]
        },
        {
          "output_type": "stream",
          "name": "stderr",
          "text": [
            "\n"
          ]
        },
        {
          "output_type": "stream",
          "name": "stdout",
          "text": [
            "| Val Loss: 3.0318 | Top-1 Acc: 24.70% | Top-5 Acc: 55.17% | Superclass Acc: 39.88%\n",
            "Validation loss improved by 0.3808. Saving model...\n"
          ]
        },
        {
          "output_type": "stream",
          "name": "stderr",
          "text": [
            "100%|██████████| 625/625 [00:19<00:00, 32.45it/s]"
          ]
        },
        {
          "output_type": "stream",
          "name": "stdout",
          "text": [
            "\n",
            "Epoch 4 | Train Loss: 3.0627 | Top-1 Acc: 23.88% | Top-5 Acc: 54.18% | Superclass Acc: 38.29% "
          ]
        },
        {
          "output_type": "stream",
          "name": "stderr",
          "text": [
            "\n"
          ]
        },
        {
          "output_type": "stream",
          "name": "stdout",
          "text": [
            "| Val Loss: 2.6997 | Top-1 Acc: 30.74% | Top-5 Acc: 63.77% | Superclass Acc: 45.97%\n",
            "Validation loss improved by 0.3321. Saving model...\n"
          ]
        },
        {
          "output_type": "stream",
          "name": "stderr",
          "text": [
            "100%|██████████| 625/625 [00:19<00:00, 32.11it/s]"
          ]
        },
        {
          "output_type": "stream",
          "name": "stdout",
          "text": [
            "\n",
            "Epoch 5 | Train Loss: 2.8399 | Top-1 Acc: 28.14% | Top-5 Acc: 59.71% | Superclass Acc: 42.66% "
          ]
        },
        {
          "output_type": "stream",
          "name": "stderr",
          "text": [
            "\n"
          ]
        },
        {
          "output_type": "stream",
          "name": "stdout",
          "text": [
            "| Val Loss: 2.5325 | Top-1 Acc: 34.38% | Top-5 Acc: 66.74% | Superclass Acc: 49.79%\n",
            "Validation loss improved by 0.1672. Saving model...\n"
          ]
        },
        {
          "output_type": "stream",
          "name": "stderr",
          "text": [
            "100%|██████████| 625/625 [00:19<00:00, 32.21it/s]"
          ]
        },
        {
          "output_type": "stream",
          "name": "stdout",
          "text": [
            "\n",
            "Epoch 6 | Train Loss: 2.6585 | Top-1 Acc: 31.75% | Top-5 Acc: 63.75% | Superclass Acc: 46.24% "
          ]
        },
        {
          "output_type": "stream",
          "name": "stderr",
          "text": [
            "\n"
          ]
        },
        {
          "output_type": "stream",
          "name": "stdout",
          "text": [
            "| Val Loss: 2.6433 | Top-1 Acc: 33.66% | Top-5 Acc: 64.80% | Superclass Acc: 47.92%\n"
          ]
        },
        {
          "output_type": "stream",
          "name": "stderr",
          "text": [
            "100%|██████████| 625/625 [00:19<00:00, 31.92it/s]"
          ]
        },
        {
          "output_type": "stream",
          "name": "stdout",
          "text": [
            "\n",
            "Epoch 7 | Train Loss: 2.4984 | Top-1 Acc: 35.03% | Top-5 Acc: 67.53% | Superclass Acc: 49.71% "
          ]
        },
        {
          "output_type": "stream",
          "name": "stderr",
          "text": [
            "\n"
          ]
        },
        {
          "output_type": "stream",
          "name": "stdout",
          "text": [
            "| Val Loss: 2.2839 | Top-1 Acc: 39.80% | Top-5 Acc: 71.60% | Superclass Acc: 54.22%\n",
            "Validation loss improved by 0.2486. Saving model...\n"
          ]
        },
        {
          "output_type": "stream",
          "name": "stderr",
          "text": [
            "100%|██████████| 625/625 [00:19<00:00, 31.75it/s]"
          ]
        },
        {
          "output_type": "stream",
          "name": "stdout",
          "text": [
            "\n",
            "Epoch 8 | Train Loss: 2.3771 | Top-1 Acc: 37.55% | Top-5 Acc: 70.16% | Superclass Acc: 52.03% "
          ]
        },
        {
          "output_type": "stream",
          "name": "stderr",
          "text": [
            "\n"
          ]
        },
        {
          "output_type": "stream",
          "name": "stdout",
          "text": [
            "| Val Loss: 2.2720 | Top-1 Acc: 40.43% | Top-5 Acc: 72.01% | Superclass Acc: 54.44%\n",
            "Validation loss improved by 0.0118. Saving model...\n"
          ]
        },
        {
          "output_type": "stream",
          "name": "stderr",
          "text": [
            "100%|██████████| 625/625 [00:19<00:00, 32.08it/s]"
          ]
        },
        {
          "output_type": "stream",
          "name": "stdout",
          "text": [
            "\n",
            "Epoch 9 | Train Loss: 2.2634 | Top-1 Acc: 40.13% | Top-5 Acc: 72.48% | Superclass Acc: 54.62% "
          ]
        },
        {
          "output_type": "stream",
          "name": "stderr",
          "text": [
            "\n"
          ]
        },
        {
          "output_type": "stream",
          "name": "stdout",
          "text": [
            "| Val Loss: 2.1453 | Top-1 Acc: 43.06% | Top-5 Acc: 75.25% | Superclass Acc: 57.38%\n",
            "Validation loss improved by 0.1267. Saving model...\n"
          ]
        },
        {
          "output_type": "stream",
          "name": "stderr",
          "text": [
            "100%|██████████| 625/625 [00:19<00:00, 32.03it/s]"
          ]
        },
        {
          "output_type": "stream",
          "name": "stdout",
          "text": [
            "\n",
            "Epoch 10 | Train Loss: 2.1790 | Top-1 Acc: 41.78% | Top-5 Acc: 73.94% | Superclass Acc: 56.17% "
          ]
        },
        {
          "output_type": "stream",
          "name": "stderr",
          "text": [
            "\n"
          ]
        },
        {
          "output_type": "stream",
          "name": "stdout",
          "text": [
            "| Val Loss: 1.9219 | Top-1 Acc: 48.31% | Top-5 Acc: 78.51% | Superclass Acc: 62.33%\n",
            "Validation loss improved by 0.2234. Saving model...\n"
          ]
        },
        {
          "output_type": "stream",
          "name": "stderr",
          "text": [
            "100%|██████████| 625/625 [00:19<00:00, 31.85it/s]"
          ]
        },
        {
          "output_type": "stream",
          "name": "stdout",
          "text": [
            "\n",
            "Epoch 11 | Train Loss: 2.0827 | Top-1 Acc: 44.22% | Top-5 Acc: 75.87% | Superclass Acc: 58.28% "
          ]
        },
        {
          "output_type": "stream",
          "name": "stderr",
          "text": [
            "\n"
          ]
        },
        {
          "output_type": "stream",
          "name": "stdout",
          "text": [
            "| Val Loss: 1.8658 | Top-1 Acc: 49.14% | Top-5 Acc: 79.28% | Superclass Acc: 63.37%\n",
            "Validation loss improved by 0.0561. Saving model...\n"
          ]
        },
        {
          "output_type": "stream",
          "name": "stderr",
          "text": [
            "100%|██████████| 625/625 [00:19<00:00, 32.02it/s]"
          ]
        },
        {
          "output_type": "stream",
          "name": "stdout",
          "text": [
            "\n",
            "Epoch 12 | Train Loss: 2.0249 | Top-1 Acc: 45.44% | Top-5 Acc: 77.28% | Superclass Acc: 59.70% "
          ]
        },
        {
          "output_type": "stream",
          "name": "stderr",
          "text": [
            "\n"
          ]
        },
        {
          "output_type": "stream",
          "name": "stdout",
          "text": [
            "| Val Loss: 1.8754 | Top-1 Acc: 49.07% | Top-5 Acc: 79.91% | Superclass Acc: 63.18%\n"
          ]
        },
        {
          "output_type": "stream",
          "name": "stderr",
          "text": [
            "100%|██████████| 625/625 [00:19<00:00, 32.20it/s]"
          ]
        },
        {
          "output_type": "stream",
          "name": "stdout",
          "text": [
            "\n",
            "Epoch 13 | Train Loss: 1.9478 | Top-1 Acc: 47.48% | Top-5 Acc: 78.62% | Superclass Acc: 61.23% "
          ]
        },
        {
          "output_type": "stream",
          "name": "stderr",
          "text": [
            "\n"
          ]
        },
        {
          "output_type": "stream",
          "name": "stdout",
          "text": [
            "| Val Loss: 1.7181 | Top-1 Acc: 52.63% | Top-5 Acc: 82.20% | Superclass Acc: 66.49%\n",
            "Validation loss improved by 0.1477. Saving model...\n"
          ]
        },
        {
          "output_type": "stream",
          "name": "stderr",
          "text": [
            "100%|██████████| 625/625 [00:19<00:00, 31.87it/s]"
          ]
        },
        {
          "output_type": "stream",
          "name": "stdout",
          "text": [
            "\n",
            "Epoch 14 | Train Loss: 1.8921 | Top-1 Acc: 48.75% | Top-5 Acc: 79.53% | Superclass Acc: 62.45% "
          ]
        },
        {
          "output_type": "stream",
          "name": "stderr",
          "text": [
            "\n"
          ]
        },
        {
          "output_type": "stream",
          "name": "stdout",
          "text": [
            "| Val Loss: 1.7680 | Top-1 Acc: 51.53% | Top-5 Acc: 80.99% | Superclass Acc: 64.66%\n"
          ]
        },
        {
          "output_type": "stream",
          "name": "stderr",
          "text": [
            "100%|██████████| 625/625 [00:19<00:00, 31.91it/s]"
          ]
        },
        {
          "output_type": "stream",
          "name": "stdout",
          "text": [
            "\n",
            "Epoch 15 | Train Loss: 1.8303 | Top-1 Acc: 50.23% | Top-5 Acc: 80.79% | Superclass Acc: 63.46% "
          ]
        },
        {
          "output_type": "stream",
          "name": "stderr",
          "text": [
            "\n"
          ]
        },
        {
          "output_type": "stream",
          "name": "stdout",
          "text": [
            "| Val Loss: 1.7777 | Top-1 Acc: 51.80% | Top-5 Acc: 81.71% | Superclass Acc: 65.63%\n"
          ]
        },
        {
          "output_type": "stream",
          "name": "stderr",
          "text": [
            "100%|██████████| 625/625 [00:19<00:00, 31.87it/s]"
          ]
        },
        {
          "output_type": "stream",
          "name": "stdout",
          "text": [
            "\n",
            "Epoch 16 | Train Loss: 1.7798 | Top-1 Acc: 51.50% | Top-5 Acc: 81.27% | Superclass Acc: 64.99% "
          ]
        },
        {
          "output_type": "stream",
          "name": "stderr",
          "text": [
            "\n"
          ]
        },
        {
          "output_type": "stream",
          "name": "stdout",
          "text": [
            "| Val Loss: 1.6910 | Top-1 Acc: 53.37% | Top-5 Acc: 82.60% | Superclass Acc: 67.80%\n",
            "Validation loss improved by 0.0272. Saving model...\n"
          ]
        },
        {
          "output_type": "stream",
          "name": "stderr",
          "text": [
            "100%|██████████| 625/625 [00:19<00:00, 32.21it/s]"
          ]
        },
        {
          "output_type": "stream",
          "name": "stdout",
          "text": [
            "\n",
            "Epoch 17 | Train Loss: 1.7437 | Top-1 Acc: 52.16% | Top-5 Acc: 82.04% | Superclass Acc: 65.64% "
          ]
        },
        {
          "output_type": "stream",
          "name": "stderr",
          "text": [
            "\n"
          ]
        },
        {
          "output_type": "stream",
          "name": "stdout",
          "text": [
            "| Val Loss: 1.6698 | Top-1 Acc: 54.50% | Top-5 Acc: 83.31% | Superclass Acc: 68.65%\n",
            "Validation loss improved by 0.0212. Saving model...\n"
          ]
        },
        {
          "output_type": "stream",
          "name": "stderr",
          "text": [
            "100%|██████████| 625/625 [00:19<00:00, 31.80it/s]"
          ]
        },
        {
          "output_type": "stream",
          "name": "stdout",
          "text": [
            "\n",
            "Epoch 18 | Train Loss: 1.6868 | Top-1 Acc: 53.73% | Top-5 Acc: 83.13% | Superclass Acc: 66.67% "
          ]
        },
        {
          "output_type": "stream",
          "name": "stderr",
          "text": [
            "\n"
          ]
        },
        {
          "output_type": "stream",
          "name": "stdout",
          "text": [
            "| Val Loss: 1.6691 | Top-1 Acc: 54.26% | Top-5 Acc: 82.98% | Superclass Acc: 67.40%\n",
            "Validation loss improved by 0.0006. Saving model...\n"
          ]
        },
        {
          "output_type": "stream",
          "name": "stderr",
          "text": [
            "100%|██████████| 625/625 [00:19<00:00, 31.99it/s]"
          ]
        },
        {
          "output_type": "stream",
          "name": "stdout",
          "text": [
            "\n",
            "Epoch 19 | Train Loss: 1.6403 | Top-1 Acc: 54.65% | Top-5 Acc: 83.84% | Superclass Acc: 67.45% "
          ]
        },
        {
          "output_type": "stream",
          "name": "stderr",
          "text": [
            "\n"
          ]
        },
        {
          "output_type": "stream",
          "name": "stdout",
          "text": [
            "| Val Loss: 1.5614 | Top-1 Acc: 56.84% | Top-5 Acc: 84.69% | Superclass Acc: 69.43%\n",
            "Validation loss improved by 0.1077. Saving model...\n"
          ]
        },
        {
          "output_type": "stream",
          "name": "stderr",
          "text": [
            "100%|██████████| 625/625 [00:19<00:00, 32.16it/s]"
          ]
        },
        {
          "output_type": "stream",
          "name": "stdout",
          "text": [
            "\n",
            "Epoch 20 | Train Loss: 1.6005 | Top-1 Acc: 55.68% | Top-5 Acc: 84.45% | Superclass Acc: 68.21% "
          ]
        },
        {
          "output_type": "stream",
          "name": "stderr",
          "text": [
            "\n"
          ]
        },
        {
          "output_type": "stream",
          "name": "stdout",
          "text": [
            "| Val Loss: 1.6728 | Top-1 Acc: 54.32% | Top-5 Acc: 83.09% | Superclass Acc: 67.79%\n"
          ]
        },
        {
          "output_type": "stream",
          "name": "stderr",
          "text": [
            "100%|██████████| 625/625 [00:19<00:00, 32.12it/s]"
          ]
        },
        {
          "output_type": "stream",
          "name": "stdout",
          "text": [
            "\n",
            "Epoch 21 | Train Loss: 1.5606 | Top-1 Acc: 56.91% | Top-5 Acc: 84.88% | Superclass Acc: 69.43% "
          ]
        },
        {
          "output_type": "stream",
          "name": "stderr",
          "text": [
            "\n"
          ]
        },
        {
          "output_type": "stream",
          "name": "stdout",
          "text": [
            "| Val Loss: 1.5666 | Top-1 Acc: 57.17% | Top-5 Acc: 84.73% | Superclass Acc: 69.58%\n"
          ]
        },
        {
          "output_type": "stream",
          "name": "stderr",
          "text": [
            "100%|██████████| 625/625 [00:19<00:00, 31.66it/s]"
          ]
        },
        {
          "output_type": "stream",
          "name": "stdout",
          "text": [
            "\n",
            "Epoch 22 | Train Loss: 1.5214 | Top-1 Acc: 57.71% | Top-5 Acc: 85.81% | Superclass Acc: 70.33% "
          ]
        },
        {
          "output_type": "stream",
          "name": "stderr",
          "text": [
            "\n"
          ]
        },
        {
          "output_type": "stream",
          "name": "stdout",
          "text": [
            "| Val Loss: 1.5684 | Top-1 Acc: 57.47% | Top-5 Acc: 84.88% | Superclass Acc: 70.28%\n"
          ]
        },
        {
          "output_type": "stream",
          "name": "stderr",
          "text": [
            "100%|██████████| 625/625 [00:19<00:00, 31.96it/s]"
          ]
        },
        {
          "output_type": "stream",
          "name": "stdout",
          "text": [
            "\n",
            "Epoch 23 | Train Loss: 1.4830 | Top-1 Acc: 58.79% | Top-5 Acc: 86.22% | Superclass Acc: 70.90% "
          ]
        },
        {
          "output_type": "stream",
          "name": "stderr",
          "text": [
            "\n"
          ]
        },
        {
          "output_type": "stream",
          "name": "stdout",
          "text": [
            "| Val Loss: 1.8184 | Top-1 Acc: 53.96% | Top-5 Acc: 81.10% | Superclass Acc: 66.36%\n"
          ]
        },
        {
          "output_type": "stream",
          "name": "stderr",
          "text": [
            "100%|██████████| 625/625 [00:19<00:00, 31.99it/s]"
          ]
        },
        {
          "output_type": "stream",
          "name": "stdout",
          "text": [
            "\n",
            "Epoch 24 | Train Loss: 1.4521 | Top-1 Acc: 59.55% | Top-5 Acc: 86.90% | Superclass Acc: 71.56% "
          ]
        },
        {
          "output_type": "stream",
          "name": "stderr",
          "text": [
            "\n"
          ]
        },
        {
          "output_type": "stream",
          "name": "stdout",
          "text": [
            "| Val Loss: 1.4824 | Top-1 Acc: 59.43% | Top-5 Acc: 86.29% | Superclass Acc: 72.34%\n",
            "Validation loss improved by 0.0791. Saving model...\n"
          ]
        },
        {
          "output_type": "stream",
          "name": "stderr",
          "text": [
            "100%|██████████| 625/625 [00:19<00:00, 31.88it/s]"
          ]
        },
        {
          "output_type": "stream",
          "name": "stdout",
          "text": [
            "\n",
            "Epoch 25 | Train Loss: 1.4122 | Top-1 Acc: 60.63% | Top-5 Acc: 87.27% | Superclass Acc: 72.25% "
          ]
        },
        {
          "output_type": "stream",
          "name": "stderr",
          "text": [
            "\n"
          ]
        },
        {
          "output_type": "stream",
          "name": "stdout",
          "text": [
            "| Val Loss: 1.6341 | Top-1 Acc: 56.23% | Top-5 Acc: 84.00% | Superclass Acc: 68.71%\n"
          ]
        },
        {
          "output_type": "stream",
          "name": "stderr",
          "text": [
            "100%|██████████| 625/625 [00:19<00:00, 31.71it/s]"
          ]
        },
        {
          "output_type": "stream",
          "name": "stdout",
          "text": [
            "\n",
            "Epoch 26 | Train Loss: 1.3900 | Top-1 Acc: 61.02% | Top-5 Acc: 87.50% | Superclass Acc: 72.60% "
          ]
        },
        {
          "output_type": "stream",
          "name": "stderr",
          "text": [
            "\n"
          ]
        },
        {
          "output_type": "stream",
          "name": "stdout",
          "text": [
            "| Val Loss: 1.4827 | Top-1 Acc: 59.52% | Top-5 Acc: 86.39% | Superclass Acc: 72.30%\n"
          ]
        },
        {
          "output_type": "stream",
          "name": "stderr",
          "text": [
            "100%|██████████| 625/625 [00:19<00:00, 32.12it/s]"
          ]
        },
        {
          "output_type": "stream",
          "name": "stdout",
          "text": [
            "\n",
            "Epoch 27 | Train Loss: 1.3625 | Top-1 Acc: 61.81% | Top-5 Acc: 88.04% | Superclass Acc: 73.29% "
          ]
        },
        {
          "output_type": "stream",
          "name": "stderr",
          "text": [
            "\n"
          ]
        },
        {
          "output_type": "stream",
          "name": "stdout",
          "text": [
            "| Val Loss: 1.5294 | Top-1 Acc: 58.72% | Top-5 Acc: 85.39% | Superclass Acc: 70.84%\n"
          ]
        },
        {
          "output_type": "stream",
          "name": "stderr",
          "text": [
            "100%|██████████| 625/625 [00:19<00:00, 32.12it/s]"
          ]
        },
        {
          "output_type": "stream",
          "name": "stdout",
          "text": [
            "\n",
            "Epoch 28 | Train Loss: 1.3225 | Top-1 Acc: 63.05% | Top-5 Acc: 88.70% | Superclass Acc: 74.31% "
          ]
        },
        {
          "output_type": "stream",
          "name": "stderr",
          "text": [
            "\n"
          ]
        },
        {
          "output_type": "stream",
          "name": "stdout",
          "text": [
            "| Val Loss: 1.5001 | Top-1 Acc: 59.31% | Top-5 Acc: 86.19% | Superclass Acc: 71.88%\n"
          ]
        },
        {
          "output_type": "stream",
          "name": "stderr",
          "text": [
            "100%|██████████| 625/625 [00:19<00:00, 31.96it/s]"
          ]
        },
        {
          "output_type": "stream",
          "name": "stdout",
          "text": [
            "\n",
            "Epoch 29 | Train Loss: 1.2975 | Top-1 Acc: 63.52% | Top-5 Acc: 88.89% | Superclass Acc: 74.74% "
          ]
        },
        {
          "output_type": "stream",
          "name": "stderr",
          "text": [
            "\n"
          ]
        },
        {
          "output_type": "stream",
          "name": "stdout",
          "text": [
            "| Val Loss: 1.4633 | Top-1 Acc: 59.84% | Top-5 Acc: 86.75% | Superclass Acc: 72.27%\n",
            "Validation loss improved by 0.0191. Saving model...\n"
          ]
        },
        {
          "output_type": "stream",
          "name": "stderr",
          "text": [
            "100%|██████████| 625/625 [00:19<00:00, 31.86it/s]"
          ]
        },
        {
          "output_type": "stream",
          "name": "stdout",
          "text": [
            "\n",
            "Epoch 30 | Train Loss: 1.2675 | Top-1 Acc: 64.33% | Top-5 Acc: 89.34% | Superclass Acc: 75.11% "
          ]
        },
        {
          "output_type": "stream",
          "name": "stderr",
          "text": [
            "\n"
          ]
        },
        {
          "output_type": "stream",
          "name": "stdout",
          "text": [
            "| Val Loss: 1.4036 | Top-1 Acc: 61.73% | Top-5 Acc: 87.36% | Superclass Acc: 73.58%\n",
            "Validation loss improved by 0.0596. Saving model...\n"
          ]
        },
        {
          "output_type": "stream",
          "name": "stderr",
          "text": [
            "100%|██████████| 625/625 [00:19<00:00, 31.99it/s]"
          ]
        },
        {
          "output_type": "stream",
          "name": "stdout",
          "text": [
            "\n",
            "Epoch 31 | Train Loss: 1.2445 | Top-1 Acc: 64.94% | Top-5 Acc: 89.59% | Superclass Acc: 75.68% "
          ]
        },
        {
          "output_type": "stream",
          "name": "stderr",
          "text": [
            "\n"
          ]
        },
        {
          "output_type": "stream",
          "name": "stdout",
          "text": [
            "| Val Loss: 1.4463 | Top-1 Acc: 61.08% | Top-5 Acc: 86.73% | Superclass Acc: 72.95%\n"
          ]
        },
        {
          "output_type": "stream",
          "name": "stderr",
          "text": [
            "100%|██████████| 625/625 [00:19<00:00, 32.20it/s]"
          ]
        },
        {
          "output_type": "stream",
          "name": "stdout",
          "text": [
            "\n",
            "Epoch 32 | Train Loss: 1.2178 | Top-1 Acc: 65.76% | Top-5 Acc: 90.08% | Superclass Acc: 76.38% "
          ]
        },
        {
          "output_type": "stream",
          "name": "stderr",
          "text": [
            "\n"
          ]
        },
        {
          "output_type": "stream",
          "name": "stdout",
          "text": [
            "| Val Loss: 1.4825 | Top-1 Acc: 60.57% | Top-5 Acc: 86.24% | Superclass Acc: 72.92%\n"
          ]
        },
        {
          "output_type": "stream",
          "name": "stderr",
          "text": [
            "100%|██████████| 625/625 [00:19<00:00, 32.10it/s]"
          ]
        },
        {
          "output_type": "stream",
          "name": "stdout",
          "text": [
            "\n",
            "Epoch 33 | Train Loss: 1.1981 | Top-1 Acc: 66.39% | Top-5 Acc: 90.25% | Superclass Acc: 76.76% "
          ]
        },
        {
          "output_type": "stream",
          "name": "stderr",
          "text": [
            "\n"
          ]
        },
        {
          "output_type": "stream",
          "name": "stdout",
          "text": [
            "| Val Loss: 1.4571 | Top-1 Acc: 61.09% | Top-5 Acc: 87.13% | Superclass Acc: 73.23%\n"
          ]
        },
        {
          "output_type": "stream",
          "name": "stderr",
          "text": [
            "100%|██████████| 625/625 [00:19<00:00, 31.94it/s]"
          ]
        },
        {
          "output_type": "stream",
          "name": "stdout",
          "text": [
            "\n",
            "Epoch 34 | Train Loss: 1.1773 | Top-1 Acc: 66.72% | Top-5 Acc: 90.54% | Superclass Acc: 76.94% "
          ]
        },
        {
          "output_type": "stream",
          "name": "stderr",
          "text": [
            "\n"
          ]
        },
        {
          "output_type": "stream",
          "name": "stdout",
          "text": [
            "| Val Loss: 1.5408 | Top-1 Acc: 59.44% | Top-5 Acc: 86.43% | Superclass Acc: 72.51%\n"
          ]
        },
        {
          "output_type": "stream",
          "name": "stderr",
          "text": [
            "100%|██████████| 625/625 [00:19<00:00, 32.15it/s]"
          ]
        },
        {
          "output_type": "stream",
          "name": "stdout",
          "text": [
            "\n",
            "Epoch 35 | Train Loss: 1.1547 | Top-1 Acc: 67.37% | Top-5 Acc: 90.86% | Superclass Acc: 77.52% "
          ]
        },
        {
          "output_type": "stream",
          "name": "stderr",
          "text": [
            "\n"
          ]
        },
        {
          "output_type": "stream",
          "name": "stdout",
          "text": [
            "| Val Loss: 1.5067 | Top-1 Acc: 60.09% | Top-5 Acc: 87.08% | Superclass Acc: 72.12%\n"
          ]
        },
        {
          "output_type": "stream",
          "name": "stderr",
          "text": [
            "100%|██████████| 625/625 [00:19<00:00, 32.07it/s]"
          ]
        },
        {
          "output_type": "stream",
          "name": "stdout",
          "text": [
            "\n",
            "Epoch 36 | Train Loss: 1.1285 | Top-1 Acc: 68.09% | Top-5 Acc: 91.13% | Superclass Acc: 78.28% "
          ]
        },
        {
          "output_type": "stream",
          "name": "stderr",
          "text": [
            "\n"
          ]
        },
        {
          "output_type": "stream",
          "name": "stdout",
          "text": [
            "| Val Loss: 1.4240 | Top-1 Acc: 62.06% | Top-5 Acc: 87.34% | Superclass Acc: 73.97%\n"
          ]
        },
        {
          "output_type": "stream",
          "name": "stderr",
          "text": [
            "100%|██████████| 625/625 [00:19<00:00, 31.96it/s]"
          ]
        },
        {
          "output_type": "stream",
          "name": "stdout",
          "text": [
            "\n",
            "Epoch 37 | Train Loss: 1.1114 | Top-1 Acc: 68.54% | Top-5 Acc: 91.48% | Superclass Acc: 78.25% "
          ]
        },
        {
          "output_type": "stream",
          "name": "stderr",
          "text": [
            "\n"
          ]
        },
        {
          "output_type": "stream",
          "name": "stdout",
          "text": [
            "| Val Loss: 1.4218 | Top-1 Acc: 62.09% | Top-5 Acc: 87.35% | Superclass Acc: 73.90%\n"
          ]
        },
        {
          "output_type": "stream",
          "name": "stderr",
          "text": [
            "100%|██████████| 625/625 [00:19<00:00, 32.09it/s]"
          ]
        },
        {
          "output_type": "stream",
          "name": "stdout",
          "text": [
            "\n",
            "Epoch 38 | Train Loss: 1.0888 | Top-1 Acc: 69.05% | Top-5 Acc: 91.73% | Superclass Acc: 78.80% "
          ]
        },
        {
          "output_type": "stream",
          "name": "stderr",
          "text": [
            "\n"
          ]
        },
        {
          "output_type": "stream",
          "name": "stdout",
          "text": [
            "| Val Loss: 1.4059 | Top-1 Acc: 62.73% | Top-5 Acc: 87.71% | Superclass Acc: 74.14%\n"
          ]
        },
        {
          "output_type": "stream",
          "name": "stderr",
          "text": [
            "100%|██████████| 625/625 [00:19<00:00, 32.34it/s]"
          ]
        },
        {
          "output_type": "stream",
          "name": "stdout",
          "text": [
            "\n",
            "Epoch 39 | Train Loss: 1.0687 | Top-1 Acc: 69.64% | Top-5 Acc: 91.78% | Superclass Acc: 79.31% "
          ]
        },
        {
          "output_type": "stream",
          "name": "stderr",
          "text": [
            "\n"
          ]
        },
        {
          "output_type": "stream",
          "name": "stdout",
          "text": [
            "| Val Loss: 1.4548 | Top-1 Acc: 63.23% | Top-5 Acc: 87.47% | Superclass Acc: 74.19%\n"
          ]
        },
        {
          "output_type": "stream",
          "name": "stderr",
          "text": [
            "100%|██████████| 625/625 [00:19<00:00, 32.01it/s]"
          ]
        },
        {
          "output_type": "stream",
          "name": "stdout",
          "text": [
            "\n",
            "Epoch 40 | Train Loss: 1.0496 | Top-1 Acc: 70.00% | Top-5 Acc: 92.26% | Superclass Acc: 79.31% "
          ]
        },
        {
          "output_type": "stream",
          "name": "stderr",
          "text": [
            "\n"
          ]
        },
        {
          "output_type": "stream",
          "name": "stdout",
          "text": [
            "| Val Loss: 1.3984 | Top-1 Acc: 63.11% | Top-5 Acc: 88.10% | Superclass Acc: 74.94%\n",
            "Validation loss improved by 0.0052. Saving model...\n"
          ]
        },
        {
          "output_type": "stream",
          "name": "stderr",
          "text": [
            "100%|██████████| 625/625 [00:19<00:00, 32.16it/s]"
          ]
        },
        {
          "output_type": "stream",
          "name": "stdout",
          "text": [
            "\n",
            "Epoch 41 | Train Loss: 1.0291 | Top-1 Acc: 70.58% | Top-5 Acc: 92.62% | Superclass Acc: 80.03% "
          ]
        },
        {
          "output_type": "stream",
          "name": "stderr",
          "text": [
            "\n"
          ]
        },
        {
          "output_type": "stream",
          "name": "stdout",
          "text": [
            "| Val Loss: 1.4315 | Top-1 Acc: 62.93% | Top-5 Acc: 87.89% | Superclass Acc: 74.89%\n"
          ]
        },
        {
          "output_type": "stream",
          "name": "stderr",
          "text": [
            "100%|██████████| 625/625 [00:19<00:00, 32.35it/s]"
          ]
        },
        {
          "output_type": "stream",
          "name": "stdout",
          "text": [
            "\n",
            "Epoch 42 | Train Loss: 1.0209 | Top-1 Acc: 70.94% | Top-5 Acc: 92.81% | Superclass Acc: 80.04% "
          ]
        },
        {
          "output_type": "stream",
          "name": "stderr",
          "text": [
            "\n"
          ]
        },
        {
          "output_type": "stream",
          "name": "stdout",
          "text": [
            "| Val Loss: 1.3824 | Top-1 Acc: 63.41% | Top-5 Acc: 87.99% | Superclass Acc: 75.45%\n",
            "Validation loss improved by 0.0161. Saving model...\n"
          ]
        },
        {
          "output_type": "stream",
          "name": "stderr",
          "text": [
            "100%|██████████| 625/625 [00:19<00:00, 31.86it/s]"
          ]
        },
        {
          "output_type": "stream",
          "name": "stdout",
          "text": [
            "\n",
            "Epoch 43 | Train Loss: 1.0023 | Top-1 Acc: 71.44% | Top-5 Acc: 92.92% | Superclass Acc: 80.62% "
          ]
        },
        {
          "output_type": "stream",
          "name": "stderr",
          "text": [
            "\n"
          ]
        },
        {
          "output_type": "stream",
          "name": "stdout",
          "text": [
            "| Val Loss: 1.3998 | Top-1 Acc: 62.91% | Top-5 Acc: 87.70% | Superclass Acc: 74.63%\n"
          ]
        },
        {
          "output_type": "stream",
          "name": "stderr",
          "text": [
            "100%|██████████| 625/625 [00:19<00:00, 32.14it/s]"
          ]
        },
        {
          "output_type": "stream",
          "name": "stdout",
          "text": [
            "\n",
            "Epoch 44 | Train Loss: 0.9980 | Top-1 Acc: 71.63% | Top-5 Acc: 92.78% | Superclass Acc: 80.57% "
          ]
        },
        {
          "output_type": "stream",
          "name": "stderr",
          "text": [
            "\n"
          ]
        },
        {
          "output_type": "stream",
          "name": "stdout",
          "text": [
            "| Val Loss: 1.4852 | Top-1 Acc: 61.46% | Top-5 Acc: 87.48% | Superclass Acc: 73.84%\n"
          ]
        },
        {
          "output_type": "stream",
          "name": "stderr",
          "text": [
            "100%|██████████| 625/625 [00:19<00:00, 32.51it/s]"
          ]
        },
        {
          "output_type": "stream",
          "name": "stdout",
          "text": [
            "\n",
            "Epoch 45 | Train Loss: 0.9601 | Top-1 Acc: 72.82% | Top-5 Acc: 93.44% | Superclass Acc: 81.50% "
          ]
        },
        {
          "output_type": "stream",
          "name": "stderr",
          "text": [
            "\n"
          ]
        },
        {
          "output_type": "stream",
          "name": "stdout",
          "text": [
            "| Val Loss: 1.5335 | Top-1 Acc: 61.72% | Top-5 Acc: 86.99% | Superclass Acc: 73.41%\n"
          ]
        },
        {
          "output_type": "stream",
          "name": "stderr",
          "text": [
            "100%|██████████| 625/625 [00:19<00:00, 32.25it/s]"
          ]
        },
        {
          "output_type": "stream",
          "name": "stdout",
          "text": [
            "\n",
            "Epoch 46 | Train Loss: 0.9459 | Top-1 Acc: 73.19% | Top-5 Acc: 93.55% | Superclass Acc: 81.68% "
          ]
        },
        {
          "output_type": "stream",
          "name": "stderr",
          "text": [
            "\n"
          ]
        },
        {
          "output_type": "stream",
          "name": "stdout",
          "text": [
            "| Val Loss: 1.4028 | Top-1 Acc: 63.33% | Top-5 Acc: 88.46% | Superclass Acc: 75.20%\n"
          ]
        },
        {
          "output_type": "stream",
          "name": "stderr",
          "text": [
            "100%|██████████| 625/625 [00:19<00:00, 32.15it/s]"
          ]
        },
        {
          "output_type": "stream",
          "name": "stdout",
          "text": [
            "\n",
            "Epoch 47 | Train Loss: 0.9305 | Top-1 Acc: 73.44% | Top-5 Acc: 93.74% | Superclass Acc: 81.98% "
          ]
        },
        {
          "output_type": "stream",
          "name": "stderr",
          "text": [
            "\n"
          ]
        },
        {
          "output_type": "stream",
          "name": "stdout",
          "text": [
            "| Val Loss: 1.4871 | Top-1 Acc: 62.55% | Top-5 Acc: 87.39% | Superclass Acc: 74.00%\n"
          ]
        },
        {
          "output_type": "stream",
          "name": "stderr",
          "text": [
            "100%|██████████| 625/625 [00:19<00:00, 31.79it/s]"
          ]
        },
        {
          "output_type": "stream",
          "name": "stdout",
          "text": [
            "\n",
            "Epoch 48 | Train Loss: 0.9104 | Top-1 Acc: 74.14% | Top-5 Acc: 93.80% | Superclass Acc: 82.41% "
          ]
        },
        {
          "output_type": "stream",
          "name": "stderr",
          "text": [
            "\n"
          ]
        },
        {
          "output_type": "stream",
          "name": "stdout",
          "text": [
            "| Val Loss: 1.4142 | Top-1 Acc: 63.64% | Top-5 Acc: 88.12% | Superclass Acc: 74.69%\n"
          ]
        },
        {
          "output_type": "stream",
          "name": "stderr",
          "text": [
            "100%|██████████| 625/625 [00:19<00:00, 32.45it/s]"
          ]
        },
        {
          "output_type": "stream",
          "name": "stdout",
          "text": [
            "\n",
            "Epoch 49 | Train Loss: 0.9093 | Top-1 Acc: 73.85% | Top-5 Acc: 93.94% | Superclass Acc: 82.01% "
          ]
        },
        {
          "output_type": "stream",
          "name": "stderr",
          "text": [
            "\n"
          ]
        },
        {
          "output_type": "stream",
          "name": "stdout",
          "text": [
            "| Val Loss: 1.4890 | Top-1 Acc: 62.90% | Top-5 Acc: 87.28% | Superclass Acc: 74.13%\n"
          ]
        },
        {
          "output_type": "stream",
          "name": "stderr",
          "text": [
            "100%|██████████| 625/625 [00:19<00:00, 32.19it/s]"
          ]
        },
        {
          "output_type": "stream",
          "name": "stdout",
          "text": [
            "\n",
            "Epoch 50 | Train Loss: 0.8878 | Top-1 Acc: 74.50% | Top-5 Acc: 94.07% | Superclass Acc: 82.71% "
          ]
        },
        {
          "output_type": "stream",
          "name": "stderr",
          "text": [
            "\n"
          ]
        },
        {
          "output_type": "stream",
          "name": "stdout",
          "text": [
            "| Val Loss: 1.5358 | Top-1 Acc: 62.17% | Top-5 Acc: 87.22% | Superclass Acc: 73.76%\n"
          ]
        },
        {
          "output_type": "stream",
          "name": "stderr",
          "text": [
            "100%|██████████| 625/625 [00:19<00:00, 31.93it/s]"
          ]
        },
        {
          "output_type": "stream",
          "name": "stdout",
          "text": [
            "\n",
            "Epoch 51 | Train Loss: 0.8644 | Top-1 Acc: 75.13% | Top-5 Acc: 94.45% | Superclass Acc: 83.18% "
          ]
        },
        {
          "output_type": "stream",
          "name": "stderr",
          "text": [
            "\n"
          ]
        },
        {
          "output_type": "stream",
          "name": "stdout",
          "text": [
            "| Val Loss: 1.5087 | Top-1 Acc: 62.63% | Top-5 Acc: 87.10% | Superclass Acc: 74.19%\n"
          ]
        },
        {
          "output_type": "stream",
          "name": "stderr",
          "text": [
            "100%|██████████| 625/625 [00:19<00:00, 31.94it/s]"
          ]
        },
        {
          "output_type": "stream",
          "name": "stdout",
          "text": [
            "\n",
            "Epoch 52 | Train Loss: 0.8788 | Top-1 Acc: 75.14% | Top-5 Acc: 94.28% | Superclass Acc: 83.06% "
          ]
        },
        {
          "output_type": "stream",
          "name": "stderr",
          "text": [
            "\n"
          ]
        },
        {
          "output_type": "stream",
          "name": "stdout",
          "text": [
            "| Val Loss: 1.5730 | Top-1 Acc: 61.55% | Top-5 Acc: 86.86% | Superclass Acc: 73.12%\n"
          ]
        },
        {
          "output_type": "stream",
          "name": "stderr",
          "text": [
            "100%|██████████| 625/625 [00:19<00:00, 32.37it/s]"
          ]
        },
        {
          "output_type": "stream",
          "name": "stdout",
          "text": [
            "\n",
            "Epoch 53 | Train Loss: 0.8483 | Top-1 Acc: 75.58% | Top-5 Acc: 94.53% | Superclass Acc: 83.25% "
          ]
        },
        {
          "output_type": "stream",
          "name": "stderr",
          "text": [
            "\n"
          ]
        },
        {
          "output_type": "stream",
          "name": "stdout",
          "text": [
            "| Val Loss: 1.4070 | Top-1 Acc: 64.21% | Top-5 Acc: 88.58% | Superclass Acc: 75.34%\n"
          ]
        },
        {
          "output_type": "stream",
          "name": "stderr",
          "text": [
            "100%|██████████| 625/625 [00:19<00:00, 31.95it/s]"
          ]
        },
        {
          "output_type": "stream",
          "name": "stdout",
          "text": [
            "\n",
            "Epoch 54 | Train Loss: 0.8304 | Top-1 Acc: 76.28% | Top-5 Acc: 94.69% | Superclass Acc: 84.00% "
          ]
        },
        {
          "output_type": "stream",
          "name": "stderr",
          "text": [
            "\n"
          ]
        },
        {
          "output_type": "stream",
          "name": "stdout",
          "text": [
            "| Val Loss: 1.4646 | Top-1 Acc: 63.44% | Top-5 Acc: 87.97% | Superclass Acc: 75.16%\n"
          ]
        },
        {
          "output_type": "stream",
          "name": "stderr",
          "text": [
            "100%|██████████| 625/625 [00:19<00:00, 32.05it/s]"
          ]
        },
        {
          "output_type": "stream",
          "name": "stdout",
          "text": [
            "\n",
            "Epoch 55 | Train Loss: 0.8214 | Top-1 Acc: 76.40% | Top-5 Acc: 94.81% | Superclass Acc: 83.91% "
          ]
        },
        {
          "output_type": "stream",
          "name": "stderr",
          "text": [
            "\n"
          ]
        },
        {
          "output_type": "stream",
          "name": "stdout",
          "text": [
            "| Val Loss: 1.4498 | Top-1 Acc: 63.51% | Top-5 Acc: 87.89% | Superclass Acc: 75.00%\n"
          ]
        },
        {
          "output_type": "stream",
          "name": "stderr",
          "text": [
            "100%|██████████| 625/625 [00:19<00:00, 32.06it/s]"
          ]
        },
        {
          "output_type": "stream",
          "name": "stdout",
          "text": [
            "\n",
            "Epoch 56 | Train Loss: 0.8083 | Top-1 Acc: 76.80% | Top-5 Acc: 94.83% | Superclass Acc: 84.05% "
          ]
        },
        {
          "output_type": "stream",
          "name": "stderr",
          "text": [
            "\n"
          ]
        },
        {
          "output_type": "stream",
          "name": "stdout",
          "text": [
            "| Val Loss: 1.5469 | Top-1 Acc: 62.46% | Top-5 Acc: 87.08% | Superclass Acc: 74.48%\n"
          ]
        },
        {
          "output_type": "stream",
          "name": "stderr",
          "text": [
            "100%|██████████| 625/625 [00:19<00:00, 31.42it/s]"
          ]
        },
        {
          "output_type": "stream",
          "name": "stdout",
          "text": [
            "\n",
            "Epoch 57 | Train Loss: 0.8038 | Top-1 Acc: 76.87% | Top-5 Acc: 94.95% | Superclass Acc: 84.39% "
          ]
        },
        {
          "output_type": "stream",
          "name": "stderr",
          "text": [
            "\n"
          ]
        },
        {
          "output_type": "stream",
          "name": "stdout",
          "text": [
            "| Val Loss: 1.4319 | Top-1 Acc: 64.37% | Top-5 Acc: 88.33% | Superclass Acc: 76.11%\n"
          ]
        },
        {
          "output_type": "stream",
          "name": "stderr",
          "text": [
            "100%|██████████| 625/625 [00:19<00:00, 31.92it/s]"
          ]
        },
        {
          "output_type": "stream",
          "name": "stdout",
          "text": [
            "\n",
            "Epoch 58 | Train Loss: 0.7849 | Top-1 Acc: 77.50% | Top-5 Acc: 95.11% | Superclass Acc: 84.73% "
          ]
        },
        {
          "output_type": "stream",
          "name": "stderr",
          "text": [
            "\n"
          ]
        },
        {
          "output_type": "stream",
          "name": "stdout",
          "text": [
            "| Val Loss: 1.4531 | Top-1 Acc: 63.96% | Top-5 Acc: 87.71% | Superclass Acc: 75.51%\n"
          ]
        },
        {
          "output_type": "stream",
          "name": "stderr",
          "text": [
            "100%|██████████| 625/625 [00:19<00:00, 31.71it/s]"
          ]
        },
        {
          "output_type": "stream",
          "name": "stdout",
          "text": [
            "\n",
            "Epoch 59 | Train Loss: 0.7556 | Top-1 Acc: 78.34% | Top-5 Acc: 95.38% | Superclass Acc: 85.30% "
          ]
        },
        {
          "output_type": "stream",
          "name": "stderr",
          "text": [
            "\n"
          ]
        },
        {
          "output_type": "stream",
          "name": "stdout",
          "text": [
            "| Val Loss: 1.4735 | Top-1 Acc: 63.78% | Top-5 Acc: 87.69% | Superclass Acc: 75.30%\n"
          ]
        },
        {
          "output_type": "stream",
          "name": "stderr",
          "text": [
            "100%|██████████| 625/625 [00:19<00:00, 31.71it/s]"
          ]
        },
        {
          "output_type": "stream",
          "name": "stdout",
          "text": [
            "\n",
            "Epoch 60 | Train Loss: 0.7669 | Top-1 Acc: 77.92% | Top-5 Acc: 95.38% | Superclass Acc: 84.83% "
          ]
        },
        {
          "output_type": "stream",
          "name": "stderr",
          "text": [
            "\n"
          ]
        },
        {
          "output_type": "stream",
          "name": "stdout",
          "text": [
            "| Val Loss: 1.5196 | Top-1 Acc: 63.16% | Top-5 Acc: 87.06% | Superclass Acc: 74.53%\n"
          ]
        },
        {
          "output_type": "stream",
          "name": "stderr",
          "text": [
            "100%|██████████| 625/625 [00:19<00:00, 31.72it/s]"
          ]
        },
        {
          "output_type": "stream",
          "name": "stdout",
          "text": [
            "\n",
            "Epoch 61 | Train Loss: 0.7416 | Top-1 Acc: 78.56% | Top-5 Acc: 95.61% | Superclass Acc: 85.61% "
          ]
        },
        {
          "output_type": "stream",
          "name": "stderr",
          "text": [
            "\n"
          ]
        },
        {
          "output_type": "stream",
          "name": "stdout",
          "text": [
            "| Val Loss: 1.4480 | Top-1 Acc: 64.14% | Top-5 Acc: 88.47% | Superclass Acc: 75.37%\n"
          ]
        },
        {
          "output_type": "stream",
          "name": "stderr",
          "text": [
            "100%|██████████| 625/625 [00:19<00:00, 32.05it/s]"
          ]
        },
        {
          "output_type": "stream",
          "name": "stdout",
          "text": [
            "\n",
            "Epoch 62 | Train Loss: 0.7322 | Top-1 Acc: 78.96% | Top-5 Acc: 95.64% | Superclass Acc: 85.74% "
          ]
        },
        {
          "output_type": "stream",
          "name": "stderr",
          "text": [
            "\n"
          ]
        },
        {
          "output_type": "stream",
          "name": "stdout",
          "text": [
            "| Val Loss: 1.5345 | Top-1 Acc: 63.28% | Top-5 Acc: 87.53% | Superclass Acc: 74.59%\n"
          ]
        },
        {
          "output_type": "stream",
          "name": "stderr",
          "text": [
            "100%|██████████| 625/625 [00:19<00:00, 32.05it/s]"
          ]
        },
        {
          "output_type": "stream",
          "name": "stdout",
          "text": [
            "\n",
            "Epoch 63 | Train Loss: 0.7226 | Top-1 Acc: 79.16% | Top-5 Acc: 95.86% | Superclass Acc: 86.04% "
          ]
        },
        {
          "output_type": "stream",
          "name": "stderr",
          "text": [
            "\n"
          ]
        },
        {
          "output_type": "stream",
          "name": "stdout",
          "text": [
            "| Val Loss: 1.5620 | Top-1 Acc: 63.32% | Top-5 Acc: 87.58% | Superclass Acc: 74.86%\n"
          ]
        },
        {
          "output_type": "stream",
          "name": "stderr",
          "text": [
            "100%|██████████| 625/625 [00:19<00:00, 32.26it/s]"
          ]
        },
        {
          "output_type": "stream",
          "name": "stdout",
          "text": [
            "\n",
            "Epoch 64 | Train Loss: 0.7107 | Top-1 Acc: 79.64% | Top-5 Acc: 95.88% | Superclass Acc: 86.29% "
          ]
        },
        {
          "output_type": "stream",
          "name": "stderr",
          "text": [
            "\n"
          ]
        },
        {
          "output_type": "stream",
          "name": "stdout",
          "text": [
            "| Val Loss: 1.5338 | Top-1 Acc: 63.46% | Top-5 Acc: 87.94% | Superclass Acc: 74.98%\n"
          ]
        },
        {
          "output_type": "stream",
          "name": "stderr",
          "text": [
            "100%|██████████| 625/625 [00:19<00:00, 32.14it/s]"
          ]
        },
        {
          "output_type": "stream",
          "name": "stdout",
          "text": [
            "\n",
            "Epoch 65 | Train Loss: 0.7038 | Top-1 Acc: 79.82% | Top-5 Acc: 95.98% | Superclass Acc: 86.40% "
          ]
        },
        {
          "output_type": "stream",
          "name": "stderr",
          "text": [
            "\n"
          ]
        },
        {
          "output_type": "stream",
          "name": "stdout",
          "text": [
            "| Val Loss: 1.4863 | Top-1 Acc: 63.58% | Top-5 Acc: 87.73% | Superclass Acc: 75.33%\n"
          ]
        },
        {
          "output_type": "stream",
          "name": "stderr",
          "text": [
            "100%|██████████| 625/625 [00:19<00:00, 31.99it/s]"
          ]
        },
        {
          "output_type": "stream",
          "name": "stdout",
          "text": [
            "\n",
            "Epoch 66 | Train Loss: 0.6704 | Top-1 Acc: 80.61% | Top-5 Acc: 96.34% | Superclass Acc: 86.83% "
          ]
        },
        {
          "output_type": "stream",
          "name": "stderr",
          "text": [
            "\n"
          ]
        },
        {
          "output_type": "stream",
          "name": "stdout",
          "text": [
            "| Val Loss: 1.4535 | Top-1 Acc: 64.51% | Top-5 Acc: 88.53% | Superclass Acc: 75.94%\n"
          ]
        },
        {
          "output_type": "stream",
          "name": "stderr",
          "text": [
            "100%|██████████| 625/625 [00:19<00:00, 32.15it/s]"
          ]
        },
        {
          "output_type": "stream",
          "name": "stdout",
          "text": [
            "\n",
            "Epoch 67 | Train Loss: 0.6718 | Top-1 Acc: 80.52% | Top-5 Acc: 96.19% | Superclass Acc: 86.92% "
          ]
        },
        {
          "output_type": "stream",
          "name": "stderr",
          "text": [
            "\n"
          ]
        },
        {
          "output_type": "stream",
          "name": "stdout",
          "text": [
            "| Val Loss: 1.5048 | Top-1 Acc: 64.56% | Top-5 Acc: 88.23% | Superclass Acc: 76.19%\n"
          ]
        },
        {
          "output_type": "stream",
          "name": "stderr",
          "text": [
            "100%|██████████| 625/625 [00:19<00:00, 32.18it/s]"
          ]
        },
        {
          "output_type": "stream",
          "name": "stdout",
          "text": [
            "\n",
            "Epoch 68 | Train Loss: 0.6799 | Top-1 Acc: 80.45% | Top-5 Acc: 96.17% | Superclass Acc: 86.64% "
          ]
        },
        {
          "output_type": "stream",
          "name": "stderr",
          "text": [
            "\n"
          ]
        },
        {
          "output_type": "stream",
          "name": "stdout",
          "text": [
            "| Val Loss: 1.4518 | Top-1 Acc: 65.16% | Top-5 Acc: 88.20% | Superclass Acc: 76.33%\n"
          ]
        },
        {
          "output_type": "stream",
          "name": "stderr",
          "text": [
            "100%|██████████| 625/625 [00:19<00:00, 32.14it/s]"
          ]
        },
        {
          "output_type": "stream",
          "name": "stdout",
          "text": [
            "\n",
            "Epoch 69 | Train Loss: 0.6613 | Top-1 Acc: 80.97% | Top-5 Acc: 96.22% | Superclass Acc: 87.11% "
          ]
        },
        {
          "output_type": "stream",
          "name": "stderr",
          "text": [
            "\n"
          ]
        },
        {
          "output_type": "stream",
          "name": "stdout",
          "text": [
            "| Val Loss: 1.5910 | Top-1 Acc: 62.29% | Top-5 Acc: 87.04% | Superclass Acc: 73.78%\n"
          ]
        },
        {
          "output_type": "stream",
          "name": "stderr",
          "text": [
            "100%|██████████| 625/625 [00:19<00:00, 32.07it/s]"
          ]
        },
        {
          "output_type": "stream",
          "name": "stdout",
          "text": [
            "\n",
            "Epoch 70 | Train Loss: 0.6466 | Top-1 Acc: 81.35% | Top-5 Acc: 96.45% | Superclass Acc: 87.33% "
          ]
        },
        {
          "output_type": "stream",
          "name": "stderr",
          "text": [
            "\n"
          ]
        },
        {
          "output_type": "stream",
          "name": "stdout",
          "text": [
            "| Val Loss: 1.6415 | Top-1 Acc: 62.21% | Top-5 Acc: 86.77% | Superclass Acc: 73.32%\n"
          ]
        },
        {
          "output_type": "stream",
          "name": "stderr",
          "text": [
            "100%|██████████| 625/625 [00:19<00:00, 32.34it/s]"
          ]
        },
        {
          "output_type": "stream",
          "name": "stdout",
          "text": [
            "\n",
            "Epoch 71 | Train Loss: 0.6345 | Top-1 Acc: 81.80% | Top-5 Acc: 96.57% | Superclass Acc: 87.66% "
          ]
        },
        {
          "output_type": "stream",
          "name": "stderr",
          "text": [
            "\n"
          ]
        },
        {
          "output_type": "stream",
          "name": "stdout",
          "text": [
            "| Val Loss: 1.5113 | Top-1 Acc: 64.05% | Top-5 Acc: 87.68% | Superclass Acc: 75.78%\n"
          ]
        },
        {
          "output_type": "stream",
          "name": "stderr",
          "text": [
            "100%|██████████| 625/625 [00:19<00:00, 32.11it/s]"
          ]
        },
        {
          "output_type": "stream",
          "name": "stdout",
          "text": [
            "\n",
            "Epoch 72 | Train Loss: 0.6139 | Top-1 Acc: 82.61% | Top-5 Acc: 96.64% | Superclass Acc: 88.16% "
          ]
        },
        {
          "output_type": "stream",
          "name": "stderr",
          "text": [
            "\n"
          ]
        },
        {
          "output_type": "stream",
          "name": "stdout",
          "text": [
            "| Val Loss: 1.4683 | Top-1 Acc: 65.13% | Top-5 Acc: 88.26% | Superclass Acc: 76.36%\n"
          ]
        },
        {
          "output_type": "stream",
          "name": "stderr",
          "text": [
            "100%|██████████| 625/625 [00:19<00:00, 32.09it/s]"
          ]
        },
        {
          "output_type": "stream",
          "name": "stdout",
          "text": [
            "\n",
            "Epoch 73 | Train Loss: 0.6189 | Top-1 Acc: 82.39% | Top-5 Acc: 96.61% | Superclass Acc: 88.05% "
          ]
        },
        {
          "output_type": "stream",
          "name": "stderr",
          "text": [
            "\n"
          ]
        },
        {
          "output_type": "stream",
          "name": "stdout",
          "text": [
            "| Val Loss: 1.4551 | Top-1 Acc: 65.09% | Top-5 Acc: 88.37% | Superclass Acc: 76.42%\n"
          ]
        },
        {
          "output_type": "stream",
          "name": "stderr",
          "text": [
            "100%|██████████| 625/625 [00:19<00:00, 32.31it/s]"
          ]
        },
        {
          "output_type": "stream",
          "name": "stdout",
          "text": [
            "\n",
            "Epoch 74 | Train Loss: 0.5941 | Top-1 Acc: 83.06% | Top-5 Acc: 96.87% | Superclass Acc: 88.43% "
          ]
        },
        {
          "output_type": "stream",
          "name": "stderr",
          "text": [
            "\n"
          ]
        },
        {
          "output_type": "stream",
          "name": "stdout",
          "text": [
            "| Val Loss: 1.5539 | Top-1 Acc: 63.83% | Top-5 Acc: 87.20% | Superclass Acc: 75.08%\n"
          ]
        },
        {
          "output_type": "stream",
          "name": "stderr",
          "text": [
            "100%|██████████| 625/625 [00:19<00:00, 32.20it/s]"
          ]
        },
        {
          "output_type": "stream",
          "name": "stdout",
          "text": [
            "\n",
            "Epoch 75 | Train Loss: 0.5977 | Top-1 Acc: 83.11% | Top-5 Acc: 96.79% | Superclass Acc: 88.56% "
          ]
        },
        {
          "output_type": "stream",
          "name": "stderr",
          "text": [
            "\n"
          ]
        },
        {
          "output_type": "stream",
          "name": "stdout",
          "text": [
            "| Val Loss: 1.4936 | Top-1 Acc: 64.52% | Top-5 Acc: 88.02% | Superclass Acc: 76.11%\n"
          ]
        },
        {
          "output_type": "stream",
          "name": "stderr",
          "text": [
            "100%|██████████| 625/625 [00:19<00:00, 32.07it/s]"
          ]
        },
        {
          "output_type": "stream",
          "name": "stdout",
          "text": [
            "\n",
            "Epoch 76 | Train Loss: 0.5791 | Top-1 Acc: 83.38% | Top-5 Acc: 97.05% | Superclass Acc: 88.81% "
          ]
        },
        {
          "output_type": "stream",
          "name": "stderr",
          "text": [
            "\n"
          ]
        },
        {
          "output_type": "stream",
          "name": "stdout",
          "text": [
            "| Val Loss: 1.5303 | Top-1 Acc: 63.06% | Top-5 Acc: 87.56% | Superclass Acc: 74.68%\n"
          ]
        },
        {
          "output_type": "stream",
          "name": "stderr",
          "text": [
            "100%|██████████| 625/625 [00:19<00:00, 31.92it/s]"
          ]
        },
        {
          "output_type": "stream",
          "name": "stdout",
          "text": [
            "\n",
            "Epoch 77 | Train Loss: 0.5847 | Top-1 Acc: 83.32% | Top-5 Acc: 96.97% | Superclass Acc: 88.75% "
          ]
        },
        {
          "output_type": "stream",
          "name": "stderr",
          "text": [
            "\n"
          ]
        },
        {
          "output_type": "stream",
          "name": "stdout",
          "text": [
            "| Val Loss: 1.4882 | Top-1 Acc: 65.04% | Top-5 Acc: 88.17% | Superclass Acc: 76.00%\n"
          ]
        },
        {
          "output_type": "stream",
          "name": "stderr",
          "text": [
            "100%|██████████| 625/625 [00:19<00:00, 32.22it/s]"
          ]
        },
        {
          "output_type": "stream",
          "name": "stdout",
          "text": [
            "\n",
            "Epoch 78 | Train Loss: 0.5645 | Top-1 Acc: 83.80% | Top-5 Acc: 97.13% | Superclass Acc: 89.02% "
          ]
        },
        {
          "output_type": "stream",
          "name": "stderr",
          "text": [
            "\n"
          ]
        },
        {
          "output_type": "stream",
          "name": "stdout",
          "text": [
            "| Val Loss: 1.4519 | Top-1 Acc: 65.65% | Top-5 Acc: 88.38% | Superclass Acc: 76.90%\n"
          ]
        },
        {
          "output_type": "stream",
          "name": "stderr",
          "text": [
            "100%|██████████| 625/625 [00:19<00:00, 32.08it/s]"
          ]
        },
        {
          "output_type": "stream",
          "name": "stdout",
          "text": [
            "\n",
            "Epoch 79 | Train Loss: 0.5572 | Top-1 Acc: 84.03% | Top-5 Acc: 97.08% | Superclass Acc: 89.13% "
          ]
        },
        {
          "output_type": "stream",
          "name": "stderr",
          "text": [
            "\n"
          ]
        },
        {
          "output_type": "stream",
          "name": "stdout",
          "text": [
            "| Val Loss: 1.5552 | Top-1 Acc: 64.00% | Top-5 Acc: 87.30% | Superclass Acc: 74.99%\n"
          ]
        },
        {
          "output_type": "stream",
          "name": "stderr",
          "text": [
            "100%|██████████| 625/625 [00:19<00:00, 31.86it/s]"
          ]
        },
        {
          "output_type": "stream",
          "name": "stdout",
          "text": [
            "\n",
            "Epoch 80 | Train Loss: 0.5524 | Top-1 Acc: 84.27% | Top-5 Acc: 97.13% | Superclass Acc: 89.21% "
          ]
        },
        {
          "output_type": "stream",
          "name": "stderr",
          "text": [
            "\n"
          ]
        },
        {
          "output_type": "stream",
          "name": "stdout",
          "text": [
            "| Val Loss: 1.5462 | Top-1 Acc: 64.29% | Top-5 Acc: 87.79% | Superclass Acc: 75.49%\n"
          ]
        },
        {
          "output_type": "stream",
          "name": "stderr",
          "text": [
            "100%|██████████| 625/625 [00:19<00:00, 31.93it/s]"
          ]
        },
        {
          "output_type": "stream",
          "name": "stdout",
          "text": [
            "\n",
            "Epoch 81 | Train Loss: 0.5428 | Top-1 Acc: 84.49% | Top-5 Acc: 97.32% | Superclass Acc: 89.43% "
          ]
        },
        {
          "output_type": "stream",
          "name": "stderr",
          "text": [
            "\n"
          ]
        },
        {
          "output_type": "stream",
          "name": "stdout",
          "text": [
            "| Val Loss: 1.5591 | Top-1 Acc: 64.14% | Top-5 Acc: 87.51% | Superclass Acc: 74.91%\n"
          ]
        },
        {
          "output_type": "stream",
          "name": "stderr",
          "text": [
            "100%|██████████| 625/625 [00:19<00:00, 32.13it/s]"
          ]
        },
        {
          "output_type": "stream",
          "name": "stdout",
          "text": [
            "\n",
            "Epoch 82 | Train Loss: 0.5299 | Top-1 Acc: 84.80% | Top-5 Acc: 97.38% | Superclass Acc: 89.59% "
          ]
        },
        {
          "output_type": "stream",
          "name": "stderr",
          "text": [
            "\n"
          ]
        },
        {
          "output_type": "stream",
          "name": "stdout",
          "text": [
            "| Val Loss: 1.5924 | Top-1 Acc: 63.41% | Top-5 Acc: 87.51% | Superclass Acc: 74.92%\n"
          ]
        },
        {
          "output_type": "stream",
          "name": "stderr",
          "text": [
            "100%|██████████| 625/625 [00:19<00:00, 32.23it/s]"
          ]
        },
        {
          "output_type": "stream",
          "name": "stdout",
          "text": [
            "\n",
            "Epoch 83 | Train Loss: 0.5338 | Top-1 Acc: 84.96% | Top-5 Acc: 97.37% | Superclass Acc: 89.65% "
          ]
        },
        {
          "output_type": "stream",
          "name": "stderr",
          "text": [
            "\n"
          ]
        },
        {
          "output_type": "stream",
          "name": "stdout",
          "text": [
            "| Val Loss: 1.4809 | Top-1 Acc: 65.66% | Top-5 Acc: 88.40% | Superclass Acc: 76.50%\n"
          ]
        },
        {
          "output_type": "stream",
          "name": "stderr",
          "text": [
            "100%|██████████| 625/625 [00:19<00:00, 32.10it/s]"
          ]
        },
        {
          "output_type": "stream",
          "name": "stdout",
          "text": [
            "\n",
            "Epoch 84 | Train Loss: 0.5064 | Top-1 Acc: 85.67% | Top-5 Acc: 97.38% | Superclass Acc: 90.18% "
          ]
        },
        {
          "output_type": "stream",
          "name": "stderr",
          "text": [
            "\n"
          ]
        },
        {
          "output_type": "stream",
          "name": "stdout",
          "text": [
            "| Val Loss: 1.5100 | Top-1 Acc: 65.37% | Top-5 Acc: 88.21% | Superclass Acc: 76.45%\n"
          ]
        },
        {
          "output_type": "stream",
          "name": "stderr",
          "text": [
            "100%|██████████| 625/625 [00:19<00:00, 32.06it/s]"
          ]
        },
        {
          "output_type": "stream",
          "name": "stdout",
          "text": [
            "\n",
            "Epoch 85 | Train Loss: 0.5071 | Top-1 Acc: 85.64% | Top-5 Acc: 97.47% | Superclass Acc: 90.27% "
          ]
        },
        {
          "output_type": "stream",
          "name": "stderr",
          "text": [
            "\n"
          ]
        },
        {
          "output_type": "stream",
          "name": "stdout",
          "text": [
            "| Val Loss: 1.4884 | Top-1 Acc: 65.73% | Top-5 Acc: 88.87% | Superclass Acc: 77.07%\n"
          ]
        },
        {
          "output_type": "stream",
          "name": "stderr",
          "text": [
            "100%|██████████| 625/625 [00:19<00:00, 32.21it/s]"
          ]
        },
        {
          "output_type": "stream",
          "name": "stdout",
          "text": [
            "\n",
            "Epoch 86 | Train Loss: 0.4995 | Top-1 Acc: 85.82% | Top-5 Acc: 97.47% | Superclass Acc: 90.15% "
          ]
        },
        {
          "output_type": "stream",
          "name": "stderr",
          "text": [
            "\n"
          ]
        },
        {
          "output_type": "stream",
          "name": "stdout",
          "text": [
            "| Val Loss: 1.5225 | Top-1 Acc: 64.64% | Top-5 Acc: 88.20% | Superclass Acc: 75.96%\n"
          ]
        },
        {
          "output_type": "stream",
          "name": "stderr",
          "text": [
            "100%|██████████| 625/625 [00:19<00:00, 31.93it/s]"
          ]
        },
        {
          "output_type": "stream",
          "name": "stdout",
          "text": [
            "\n",
            "Epoch 87 | Train Loss: 0.4840 | Top-1 Acc: 86.27% | Top-5 Acc: 97.57% | Superclass Acc: 90.60% "
          ]
        },
        {
          "output_type": "stream",
          "name": "stderr",
          "text": [
            "\n"
          ]
        },
        {
          "output_type": "stream",
          "name": "stdout",
          "text": [
            "| Val Loss: 1.5117 | Top-1 Acc: 65.05% | Top-5 Acc: 88.05% | Superclass Acc: 76.61%\n"
          ]
        },
        {
          "output_type": "stream",
          "name": "stderr",
          "text": [
            "100%|██████████| 625/625 [00:19<00:00, 31.99it/s]"
          ]
        },
        {
          "output_type": "stream",
          "name": "stdout",
          "text": [
            "\n",
            "Epoch 88 | Train Loss: 0.4732 | Top-1 Acc: 86.88% | Top-5 Acc: 97.66% | Superclass Acc: 90.97% "
          ]
        },
        {
          "output_type": "stream",
          "name": "stderr",
          "text": [
            "\n"
          ]
        },
        {
          "output_type": "stream",
          "name": "stdout",
          "text": [
            "| Val Loss: 1.5636 | Top-1 Acc: 64.60% | Top-5 Acc: 87.64% | Superclass Acc: 75.68%\n"
          ]
        },
        {
          "output_type": "stream",
          "name": "stderr",
          "text": [
            "100%|██████████| 625/625 [00:19<00:00, 32.27it/s]"
          ]
        },
        {
          "output_type": "stream",
          "name": "stdout",
          "text": [
            "\n",
            "Epoch 89 | Train Loss: 0.4706 | Top-1 Acc: 86.58% | Top-5 Acc: 97.69% | Superclass Acc: 90.87% "
          ]
        },
        {
          "output_type": "stream",
          "name": "stderr",
          "text": [
            "\n"
          ]
        },
        {
          "output_type": "stream",
          "name": "stdout",
          "text": [
            "| Val Loss: 1.5636 | Top-1 Acc: 64.96% | Top-5 Acc: 87.50% | Superclass Acc: 76.07%\n"
          ]
        },
        {
          "output_type": "stream",
          "name": "stderr",
          "text": [
            "100%|██████████| 625/625 [00:19<00:00, 32.09it/s]"
          ]
        },
        {
          "output_type": "stream",
          "name": "stdout",
          "text": [
            "\n",
            "Epoch 90 | Train Loss: 0.4537 | Top-1 Acc: 87.31% | Top-5 Acc: 97.92% | Superclass Acc: 91.28% "
          ]
        },
        {
          "output_type": "stream",
          "name": "stderr",
          "text": [
            "\n"
          ]
        },
        {
          "output_type": "stream",
          "name": "stdout",
          "text": [
            "| Val Loss: 1.4835 | Top-1 Acc: 65.32% | Top-5 Acc: 88.17% | Superclass Acc: 76.11%\n"
          ]
        },
        {
          "output_type": "stream",
          "name": "stderr",
          "text": [
            "100%|██████████| 625/625 [00:19<00:00, 32.24it/s]"
          ]
        },
        {
          "output_type": "stream",
          "name": "stdout",
          "text": [
            "\n",
            "Epoch 91 | Train Loss: 0.4416 | Top-1 Acc: 87.59% | Top-5 Acc: 97.92% | Superclass Acc: 91.42% "
          ]
        },
        {
          "output_type": "stream",
          "name": "stderr",
          "text": [
            "\n"
          ]
        },
        {
          "output_type": "stream",
          "name": "stdout",
          "text": [
            "| Val Loss: 1.5580 | Top-1 Acc: 65.29% | Top-5 Acc: 87.95% | Superclass Acc: 76.26%\n"
          ]
        },
        {
          "output_type": "stream",
          "name": "stderr",
          "text": [
            "100%|██████████| 625/625 [00:19<00:00, 32.14it/s]"
          ]
        },
        {
          "output_type": "stream",
          "name": "stdout",
          "text": [
            "\n",
            "Epoch 92 | Train Loss: 0.4513 | Top-1 Acc: 87.28% | Top-5 Acc: 97.83% | Superclass Acc: 91.30% "
          ]
        },
        {
          "output_type": "stream",
          "name": "stderr",
          "text": [
            "\n"
          ]
        },
        {
          "output_type": "stream",
          "name": "stdout",
          "text": [
            "| Val Loss: 1.5063 | Top-1 Acc: 65.91% | Top-5 Acc: 88.51% | Superclass Acc: 76.68%\n"
          ]
        },
        {
          "output_type": "stream",
          "name": "stderr",
          "text": [
            "100%|██████████| 625/625 [00:19<00:00, 32.16it/s]"
          ]
        },
        {
          "output_type": "stream",
          "name": "stdout",
          "text": [
            "\n",
            "Epoch 93 | Train Loss: 0.4382 | Top-1 Acc: 87.62% | Top-5 Acc: 97.86% | Superclass Acc: 91.54% "
          ]
        },
        {
          "output_type": "stream",
          "name": "stderr",
          "text": [
            "\n"
          ]
        },
        {
          "output_type": "stream",
          "name": "stdout",
          "text": [
            "| Val Loss: 1.5065 | Top-1 Acc: 65.48% | Top-5 Acc: 88.42% | Superclass Acc: 76.80%\n"
          ]
        },
        {
          "output_type": "stream",
          "name": "stderr",
          "text": [
            "100%|██████████| 625/625 [00:19<00:00, 32.08it/s]"
          ]
        },
        {
          "output_type": "stream",
          "name": "stdout",
          "text": [
            "\n",
            "Epoch 94 | Train Loss: 0.4339 | Top-1 Acc: 87.94% | Top-5 Acc: 97.95% | Superclass Acc: 91.66% "
          ]
        },
        {
          "output_type": "stream",
          "name": "stderr",
          "text": [
            "\n"
          ]
        },
        {
          "output_type": "stream",
          "name": "stdout",
          "text": [
            "| Val Loss: 1.5333 | Top-1 Acc: 64.64% | Top-5 Acc: 87.80% | Superclass Acc: 76.38%\n"
          ]
        },
        {
          "output_type": "stream",
          "name": "stderr",
          "text": [
            "100%|██████████| 625/625 [00:19<00:00, 32.06it/s]"
          ]
        },
        {
          "output_type": "stream",
          "name": "stdout",
          "text": [
            "\n",
            "Epoch 95 | Train Loss: 0.4197 | Top-1 Acc: 88.28% | Top-5 Acc: 97.95% | Superclass Acc: 92.00% "
          ]
        },
        {
          "output_type": "stream",
          "name": "stderr",
          "text": [
            "\n"
          ]
        },
        {
          "output_type": "stream",
          "name": "stdout",
          "text": [
            "| Val Loss: 1.5370 | Top-1 Acc: 64.72% | Top-5 Acc: 88.22% | Superclass Acc: 75.65%\n"
          ]
        },
        {
          "output_type": "stream",
          "name": "stderr",
          "text": [
            "100%|██████████| 625/625 [00:19<00:00, 32.30it/s]"
          ]
        },
        {
          "output_type": "stream",
          "name": "stdout",
          "text": [
            "\n",
            "Epoch 96 | Train Loss: 0.4172 | Top-1 Acc: 88.27% | Top-5 Acc: 97.93% | Superclass Acc: 92.00% "
          ]
        },
        {
          "output_type": "stream",
          "name": "stderr",
          "text": [
            "\n"
          ]
        },
        {
          "output_type": "stream",
          "name": "stdout",
          "text": [
            "| Val Loss: 1.5417 | Top-1 Acc: 64.59% | Top-5 Acc: 87.87% | Superclass Acc: 75.97%\n"
          ]
        },
        {
          "output_type": "stream",
          "name": "stderr",
          "text": [
            "100%|██████████| 625/625 [00:19<00:00, 32.29it/s]"
          ]
        },
        {
          "output_type": "stream",
          "name": "stdout",
          "text": [
            "\n",
            "Epoch 97 | Train Loss: 0.4044 | Top-1 Acc: 88.71% | Top-5 Acc: 97.98% | Superclass Acc: 92.32% "
          ]
        },
        {
          "output_type": "stream",
          "name": "stderr",
          "text": [
            "\n"
          ]
        },
        {
          "output_type": "stream",
          "name": "stdout",
          "text": [
            "| Val Loss: 1.5230 | Top-1 Acc: 65.43% | Top-5 Acc: 88.20% | Superclass Acc: 76.92%\n"
          ]
        },
        {
          "output_type": "stream",
          "name": "stderr",
          "text": [
            "100%|██████████| 625/625 [00:19<00:00, 31.86it/s]"
          ]
        },
        {
          "output_type": "stream",
          "name": "stdout",
          "text": [
            "\n",
            "Epoch 98 | Train Loss: 0.3910 | Top-1 Acc: 89.17% | Top-5 Acc: 98.13% | Superclass Acc: 92.45% "
          ]
        },
        {
          "output_type": "stream",
          "name": "stderr",
          "text": [
            "\n"
          ]
        },
        {
          "output_type": "stream",
          "name": "stdout",
          "text": [
            "| Val Loss: 1.5265 | Top-1 Acc: 65.87% | Top-5 Acc: 88.42% | Superclass Acc: 76.75%\n"
          ]
        },
        {
          "output_type": "stream",
          "name": "stderr",
          "text": [
            "100%|██████████| 625/625 [00:19<00:00, 31.98it/s]"
          ]
        },
        {
          "output_type": "stream",
          "name": "stdout",
          "text": [
            "\n",
            "Epoch 99 | Train Loss: 0.3827 | Top-1 Acc: 89.36% | Top-5 Acc: 98.19% | Superclass Acc: 92.62% "
          ]
        },
        {
          "output_type": "stream",
          "name": "stderr",
          "text": [
            "\n"
          ]
        },
        {
          "output_type": "stream",
          "name": "stdout",
          "text": [
            "| Val Loss: 1.5606 | Top-1 Acc: 65.25% | Top-5 Acc: 88.26% | Superclass Acc: 76.41%\n"
          ]
        },
        {
          "output_type": "stream",
          "name": "stderr",
          "text": [
            "100%|██████████| 625/625 [00:19<00:00, 32.02it/s]"
          ]
        },
        {
          "output_type": "stream",
          "name": "stdout",
          "text": [
            "\n",
            "Epoch 100 | Train Loss: 0.3903 | Top-1 Acc: 89.18% | Top-5 Acc: 98.20% | Superclass Acc: 92.69% "
          ]
        },
        {
          "output_type": "stream",
          "name": "stderr",
          "text": [
            "\n"
          ]
        },
        {
          "output_type": "stream",
          "name": "stdout",
          "text": [
            "| Val Loss: 1.5311 | Top-1 Acc: 66.25% | Top-5 Acc: 88.46% | Superclass Acc: 77.20%\n"
          ]
        },
        {
          "output_type": "stream",
          "name": "stderr",
          "text": [
            "100%|██████████| 625/625 [00:19<00:00, 31.78it/s]"
          ]
        },
        {
          "output_type": "stream",
          "name": "stdout",
          "text": [
            "\n",
            "Epoch 101 | Train Loss: 0.3839 | Top-1 Acc: 89.40% | Top-5 Acc: 98.16% | Superclass Acc: 92.72% "
          ]
        },
        {
          "output_type": "stream",
          "name": "stderr",
          "text": [
            "\n"
          ]
        },
        {
          "output_type": "stream",
          "name": "stdout",
          "text": [
            "| Val Loss: 1.4933 | Top-1 Acc: 65.66% | Top-5 Acc: 88.48% | Superclass Acc: 76.72%\n"
          ]
        },
        {
          "output_type": "stream",
          "name": "stderr",
          "text": [
            "100%|██████████| 625/625 [00:19<00:00, 32.28it/s]"
          ]
        },
        {
          "output_type": "stream",
          "name": "stdout",
          "text": [
            "\n",
            "Epoch 102 | Train Loss: 0.3649 | Top-1 Acc: 90.08% | Top-5 Acc: 98.19% | Superclass Acc: 93.14% "
          ]
        },
        {
          "output_type": "stream",
          "name": "stderr",
          "text": [
            "\n"
          ]
        },
        {
          "output_type": "stream",
          "name": "stdout",
          "text": [
            "| Val Loss: 1.4759 | Top-1 Acc: 66.41% | Top-5 Acc: 88.93% | Superclass Acc: 77.62%\n"
          ]
        },
        {
          "output_type": "stream",
          "name": "stderr",
          "text": [
            "100%|██████████| 625/625 [00:19<00:00, 32.46it/s]"
          ]
        },
        {
          "output_type": "stream",
          "name": "stdout",
          "text": [
            "\n",
            "Epoch 103 | Train Loss: 0.3561 | Top-1 Acc: 90.12% | Top-5 Acc: 98.31% | Superclass Acc: 93.22% "
          ]
        },
        {
          "output_type": "stream",
          "name": "stderr",
          "text": [
            "\n"
          ]
        },
        {
          "output_type": "stream",
          "name": "stdout",
          "text": [
            "| Val Loss: 1.5016 | Top-1 Acc: 65.90% | Top-5 Acc: 88.47% | Superclass Acc: 76.49%\n"
          ]
        },
        {
          "output_type": "stream",
          "name": "stderr",
          "text": [
            "100%|██████████| 625/625 [00:19<00:00, 32.24it/s]"
          ]
        },
        {
          "output_type": "stream",
          "name": "stdout",
          "text": [
            "\n",
            "Epoch 104 | Train Loss: 0.3590 | Top-1 Acc: 90.17% | Top-5 Acc: 98.33% | Superclass Acc: 93.22% "
          ]
        },
        {
          "output_type": "stream",
          "name": "stderr",
          "text": [
            "\n"
          ]
        },
        {
          "output_type": "stream",
          "name": "stdout",
          "text": [
            "| Val Loss: 1.5238 | Top-1 Acc: 66.28% | Top-5 Acc: 88.08% | Superclass Acc: 77.18%\n"
          ]
        },
        {
          "output_type": "stream",
          "name": "stderr",
          "text": [
            "100%|██████████| 625/625 [00:19<00:00, 32.18it/s]"
          ]
        },
        {
          "output_type": "stream",
          "name": "stdout",
          "text": [
            "\n",
            "Epoch 105 | Train Loss: 0.3542 | Top-1 Acc: 90.19% | Top-5 Acc: 98.37% | Superclass Acc: 93.11% "
          ]
        },
        {
          "output_type": "stream",
          "name": "stderr",
          "text": [
            "\n"
          ]
        },
        {
          "output_type": "stream",
          "name": "stdout",
          "text": [
            "| Val Loss: 1.5662 | Top-1 Acc: 65.50% | Top-5 Acc: 87.76% | Superclass Acc: 76.35%\n"
          ]
        },
        {
          "output_type": "stream",
          "name": "stderr",
          "text": [
            "100%|██████████| 625/625 [00:19<00:00, 31.95it/s]"
          ]
        },
        {
          "output_type": "stream",
          "name": "stdout",
          "text": [
            "\n",
            "Epoch 106 | Train Loss: 0.3474 | Top-1 Acc: 90.48% | Top-5 Acc: 98.30% | Superclass Acc: 93.32% "
          ]
        },
        {
          "output_type": "stream",
          "name": "stderr",
          "text": [
            "\n"
          ]
        },
        {
          "output_type": "stream",
          "name": "stdout",
          "text": [
            "| Val Loss: 1.5080 | Top-1 Acc: 65.44% | Top-5 Acc: 88.28% | Superclass Acc: 76.81%\n"
          ]
        },
        {
          "output_type": "stream",
          "name": "stderr",
          "text": [
            "100%|██████████| 625/625 [00:19<00:00, 32.26it/s]"
          ]
        },
        {
          "output_type": "stream",
          "name": "stdout",
          "text": [
            "\n",
            "Epoch 107 | Train Loss: 0.3336 | Top-1 Acc: 90.82% | Top-5 Acc: 98.48% | Superclass Acc: 93.68% "
          ]
        },
        {
          "output_type": "stream",
          "name": "stderr",
          "text": [
            "\n"
          ]
        },
        {
          "output_type": "stream",
          "name": "stdout",
          "text": [
            "| Val Loss: 1.5163 | Top-1 Acc: 66.11% | Top-5 Acc: 88.37% | Superclass Acc: 76.88%\n"
          ]
        },
        {
          "output_type": "stream",
          "name": "stderr",
          "text": [
            "100%|██████████| 625/625 [00:19<00:00, 32.15it/s]"
          ]
        },
        {
          "output_type": "stream",
          "name": "stdout",
          "text": [
            "\n",
            "Epoch 108 | Train Loss: 0.3309 | Top-1 Acc: 90.91% | Top-5 Acc: 98.51% | Superclass Acc: 93.62% "
          ]
        },
        {
          "output_type": "stream",
          "name": "stderr",
          "text": [
            "\n"
          ]
        },
        {
          "output_type": "stream",
          "name": "stdout",
          "text": [
            "| Val Loss: 1.5758 | Top-1 Acc: 64.94% | Top-5 Acc: 87.64% | Superclass Acc: 75.80%\n"
          ]
        },
        {
          "output_type": "stream",
          "name": "stderr",
          "text": [
            "100%|██████████| 625/625 [00:19<00:00, 32.06it/s]"
          ]
        },
        {
          "output_type": "stream",
          "name": "stdout",
          "text": [
            "\n",
            "Epoch 109 | Train Loss: 0.3307 | Top-1 Acc: 91.02% | Top-5 Acc: 98.48% | Superclass Acc: 93.70% "
          ]
        },
        {
          "output_type": "stream",
          "name": "stderr",
          "text": [
            "\n"
          ]
        },
        {
          "output_type": "stream",
          "name": "stdout",
          "text": [
            "| Val Loss: 1.5038 | Top-1 Acc: 66.24% | Top-5 Acc: 88.74% | Superclass Acc: 77.12%\n"
          ]
        },
        {
          "output_type": "stream",
          "name": "stderr",
          "text": [
            "100%|██████████| 625/625 [00:19<00:00, 31.94it/s]"
          ]
        },
        {
          "output_type": "stream",
          "name": "stdout",
          "text": [
            "\n",
            "Epoch 110 | Train Loss: 0.3174 | Top-1 Acc: 91.28% | Top-5 Acc: 98.45% | Superclass Acc: 94.09% "
          ]
        },
        {
          "output_type": "stream",
          "name": "stderr",
          "text": [
            "\n"
          ]
        },
        {
          "output_type": "stream",
          "name": "stdout",
          "text": [
            "| Val Loss: 1.5016 | Top-1 Acc: 66.21% | Top-5 Acc: 88.13% | Superclass Acc: 77.41%\n"
          ]
        },
        {
          "output_type": "stream",
          "name": "stderr",
          "text": [
            "100%|██████████| 625/625 [00:19<00:00, 32.24it/s]"
          ]
        },
        {
          "output_type": "stream",
          "name": "stdout",
          "text": [
            "\n",
            "Epoch 111 | Train Loss: 0.3086 | Top-1 Acc: 91.82% | Top-5 Acc: 98.57% | Superclass Acc: 94.28% "
          ]
        },
        {
          "output_type": "stream",
          "name": "stderr",
          "text": [
            "\n"
          ]
        },
        {
          "output_type": "stream",
          "name": "stdout",
          "text": [
            "| Val Loss: 1.4583 | Top-1 Acc: 67.05% | Top-5 Acc: 88.66% | Superclass Acc: 77.77%\n"
          ]
        },
        {
          "output_type": "stream",
          "name": "stderr",
          "text": [
            "100%|██████████| 625/625 [00:19<00:00, 32.05it/s]"
          ]
        },
        {
          "output_type": "stream",
          "name": "stdout",
          "text": [
            "\n",
            "Epoch 112 | Train Loss: 0.3025 | Top-1 Acc: 91.97% | Top-5 Acc: 98.58% | Superclass Acc: 94.41% "
          ]
        },
        {
          "output_type": "stream",
          "name": "stderr",
          "text": [
            "\n"
          ]
        },
        {
          "output_type": "stream",
          "name": "stdout",
          "text": [
            "| Val Loss: 1.4722 | Top-1 Acc: 66.98% | Top-5 Acc: 88.97% | Superclass Acc: 77.74%\n"
          ]
        },
        {
          "output_type": "stream",
          "name": "stderr",
          "text": [
            "100%|██████████| 625/625 [00:19<00:00, 31.96it/s]"
          ]
        },
        {
          "output_type": "stream",
          "name": "stdout",
          "text": [
            "\n",
            "Epoch 113 | Train Loss: 0.2935 | Top-1 Acc: 92.04% | Top-5 Acc: 98.64% | Superclass Acc: 94.52% "
          ]
        },
        {
          "output_type": "stream",
          "name": "stderr",
          "text": [
            "\n"
          ]
        },
        {
          "output_type": "stream",
          "name": "stdout",
          "text": [
            "| Val Loss: 1.5245 | Top-1 Acc: 66.23% | Top-5 Acc: 88.74% | Superclass Acc: 77.10%\n"
          ]
        },
        {
          "output_type": "stream",
          "name": "stderr",
          "text": [
            "100%|██████████| 625/625 [00:19<00:00, 32.24it/s]"
          ]
        },
        {
          "output_type": "stream",
          "name": "stdout",
          "text": [
            "\n",
            "Epoch 114 | Train Loss: 0.2942 | Top-1 Acc: 91.96% | Top-5 Acc: 98.61% | Superclass Acc: 94.43% "
          ]
        },
        {
          "output_type": "stream",
          "name": "stderr",
          "text": [
            "\n"
          ]
        },
        {
          "output_type": "stream",
          "name": "stdout",
          "text": [
            "| Val Loss: 1.5232 | Top-1 Acc: 66.22% | Top-5 Acc: 88.50% | Superclass Acc: 76.85%\n"
          ]
        },
        {
          "output_type": "stream",
          "name": "stderr",
          "text": [
            "100%|██████████| 625/625 [00:19<00:00, 31.99it/s]"
          ]
        },
        {
          "output_type": "stream",
          "name": "stdout",
          "text": [
            "\n",
            "Epoch 115 | Train Loss: 0.2842 | Top-1 Acc: 92.32% | Top-5 Acc: 98.71% | Superclass Acc: 94.69% "
          ]
        },
        {
          "output_type": "stream",
          "name": "stderr",
          "text": [
            "\n"
          ]
        },
        {
          "output_type": "stream",
          "name": "stdout",
          "text": [
            "| Val Loss: 1.4722 | Top-1 Acc: 67.27% | Top-5 Acc: 89.26% | Superclass Acc: 78.16%\n"
          ]
        },
        {
          "output_type": "stream",
          "name": "stderr",
          "text": [
            "100%|██████████| 625/625 [00:19<00:00, 32.03it/s]"
          ]
        },
        {
          "output_type": "stream",
          "name": "stdout",
          "text": [
            "\n",
            "Epoch 116 | Train Loss: 0.2768 | Top-1 Acc: 92.61% | Top-5 Acc: 98.74% | Superclass Acc: 94.86% "
          ]
        },
        {
          "output_type": "stream",
          "name": "stderr",
          "text": [
            "\n"
          ]
        },
        {
          "output_type": "stream",
          "name": "stdout",
          "text": [
            "| Val Loss: 1.4369 | Top-1 Acc: 67.37% | Top-5 Acc: 89.06% | Superclass Acc: 78.42%\n"
          ]
        },
        {
          "output_type": "stream",
          "name": "stderr",
          "text": [
            "100%|██████████| 625/625 [00:19<00:00, 32.19it/s]"
          ]
        },
        {
          "output_type": "stream",
          "name": "stdout",
          "text": [
            "\n",
            "Epoch 117 | Train Loss: 0.2731 | Top-1 Acc: 92.62% | Top-5 Acc: 98.67% | Superclass Acc: 94.85% "
          ]
        },
        {
          "output_type": "stream",
          "name": "stderr",
          "text": [
            "\n"
          ]
        },
        {
          "output_type": "stream",
          "name": "stdout",
          "text": [
            "| Val Loss: 1.4474 | Top-1 Acc: 66.99% | Top-5 Acc: 89.02% | Superclass Acc: 78.23%\n"
          ]
        },
        {
          "output_type": "stream",
          "name": "stderr",
          "text": [
            "100%|██████████| 625/625 [00:19<00:00, 32.12it/s]"
          ]
        },
        {
          "output_type": "stream",
          "name": "stdout",
          "text": [
            "\n",
            "Epoch 118 | Train Loss: 0.2710 | Top-1 Acc: 92.78% | Top-5 Acc: 98.79% | Superclass Acc: 94.96% "
          ]
        },
        {
          "output_type": "stream",
          "name": "stderr",
          "text": [
            "\n"
          ]
        },
        {
          "output_type": "stream",
          "name": "stdout",
          "text": [
            "| Val Loss: 1.5071 | Top-1 Acc: 66.91% | Top-5 Acc: 88.56% | Superclass Acc: 77.96%\n"
          ]
        },
        {
          "output_type": "stream",
          "name": "stderr",
          "text": [
            "100%|██████████| 625/625 [00:19<00:00, 31.99it/s]"
          ]
        },
        {
          "output_type": "stream",
          "name": "stdout",
          "text": [
            "\n",
            "Epoch 119 | Train Loss: 0.2607 | Top-1 Acc: 93.19% | Top-5 Acc: 98.76% | Superclass Acc: 95.17% "
          ]
        },
        {
          "output_type": "stream",
          "name": "stderr",
          "text": [
            "\n"
          ]
        },
        {
          "output_type": "stream",
          "name": "stdout",
          "text": [
            "| Val Loss: 1.4847 | Top-1 Acc: 66.94% | Top-5 Acc: 88.55% | Superclass Acc: 77.52%\n"
          ]
        },
        {
          "output_type": "stream",
          "name": "stderr",
          "text": [
            "100%|██████████| 625/625 [00:19<00:00, 31.81it/s]"
          ]
        },
        {
          "output_type": "stream",
          "name": "stdout",
          "text": [
            "\n",
            "Epoch 120 | Train Loss: 0.2573 | Top-1 Acc: 93.22% | Top-5 Acc: 98.78% | Superclass Acc: 95.30% "
          ]
        },
        {
          "output_type": "stream",
          "name": "stderr",
          "text": [
            "\n"
          ]
        },
        {
          "output_type": "stream",
          "name": "stdout",
          "text": [
            "| Val Loss: 1.4678 | Top-1 Acc: 67.29% | Top-5 Acc: 88.75% | Superclass Acc: 77.79%\n"
          ]
        },
        {
          "output_type": "stream",
          "name": "stderr",
          "text": [
            "100%|██████████| 625/625 [00:19<00:00, 31.94it/s]"
          ]
        },
        {
          "output_type": "stream",
          "name": "stdout",
          "text": [
            "\n",
            "Epoch 121 | Train Loss: 0.2376 | Top-1 Acc: 93.88% | Top-5 Acc: 98.86% | Superclass Acc: 95.58% "
          ]
        },
        {
          "output_type": "stream",
          "name": "stderr",
          "text": [
            "\n"
          ]
        },
        {
          "output_type": "stream",
          "name": "stdout",
          "text": [
            "| Val Loss: 1.4996 | Top-1 Acc: 67.01% | Top-5 Acc: 88.82% | Superclass Acc: 77.74%\n"
          ]
        },
        {
          "output_type": "stream",
          "name": "stderr",
          "text": [
            "100%|██████████| 625/625 [00:19<00:00, 31.96it/s]"
          ]
        },
        {
          "output_type": "stream",
          "name": "stdout",
          "text": [
            "\n",
            "Epoch 122 | Train Loss: 0.2392 | Top-1 Acc: 93.66% | Top-5 Acc: 98.93% | Superclass Acc: 95.61% "
          ]
        },
        {
          "output_type": "stream",
          "name": "stderr",
          "text": [
            "\n"
          ]
        },
        {
          "output_type": "stream",
          "name": "stdout",
          "text": [
            "| Val Loss: 1.4556 | Top-1 Acc: 67.31% | Top-5 Acc: 88.61% | Superclass Acc: 78.12%\n"
          ]
        },
        {
          "output_type": "stream",
          "name": "stderr",
          "text": [
            "100%|██████████| 625/625 [00:19<00:00, 32.11it/s]"
          ]
        },
        {
          "output_type": "stream",
          "name": "stdout",
          "text": [
            "\n",
            "Epoch 123 | Train Loss: 0.2307 | Top-1 Acc: 93.89% | Top-5 Acc: 98.98% | Superclass Acc: 95.75% "
          ]
        },
        {
          "output_type": "stream",
          "name": "stderr",
          "text": [
            "\n"
          ]
        },
        {
          "output_type": "stream",
          "name": "stdout",
          "text": [
            "| Val Loss: 1.5052 | Top-1 Acc: 67.08% | Top-5 Acc: 88.32% | Superclass Acc: 77.62%\n"
          ]
        },
        {
          "output_type": "stream",
          "name": "stderr",
          "text": [
            "100%|██████████| 625/625 [00:19<00:00, 31.96it/s]"
          ]
        },
        {
          "output_type": "stream",
          "name": "stdout",
          "text": [
            "\n",
            "Epoch 124 | Train Loss: 0.2226 | Top-1 Acc: 94.19% | Top-5 Acc: 99.02% | Superclass Acc: 95.88% "
          ]
        },
        {
          "output_type": "stream",
          "name": "stderr",
          "text": [
            "\n"
          ]
        },
        {
          "output_type": "stream",
          "name": "stdout",
          "text": [
            "| Val Loss: 1.4815 | Top-1 Acc: 67.26% | Top-5 Acc: 88.46% | Superclass Acc: 77.93%\n"
          ]
        },
        {
          "output_type": "stream",
          "name": "stderr",
          "text": [
            "100%|██████████| 625/625 [00:19<00:00, 32.23it/s]"
          ]
        },
        {
          "output_type": "stream",
          "name": "stdout",
          "text": [
            "\n",
            "Epoch 125 | Train Loss: 0.2262 | Top-1 Acc: 94.00% | Top-5 Acc: 98.98% | Superclass Acc: 95.80% "
          ]
        },
        {
          "output_type": "stream",
          "name": "stderr",
          "text": [
            "\n"
          ]
        },
        {
          "output_type": "stream",
          "name": "stdout",
          "text": [
            "| Val Loss: 1.4542 | Top-1 Acc: 67.38% | Top-5 Acc: 88.53% | Superclass Acc: 78.42%\n"
          ]
        },
        {
          "output_type": "stream",
          "name": "stderr",
          "text": [
            "100%|██████████| 625/625 [00:19<00:00, 32.01it/s]"
          ]
        },
        {
          "output_type": "stream",
          "name": "stdout",
          "text": [
            "\n",
            "Epoch 126 | Train Loss: 0.2230 | Top-1 Acc: 94.29% | Top-5 Acc: 98.87% | Superclass Acc: 95.96% "
          ]
        },
        {
          "output_type": "stream",
          "name": "stderr",
          "text": [
            "\n"
          ]
        },
        {
          "output_type": "stream",
          "name": "stdout",
          "text": [
            "| Val Loss: 1.4503 | Top-1 Acc: 67.63% | Top-5 Acc: 88.77% | Superclass Acc: 77.67%\n"
          ]
        },
        {
          "output_type": "stream",
          "name": "stderr",
          "text": [
            "100%|██████████| 625/625 [00:19<00:00, 32.04it/s]"
          ]
        },
        {
          "output_type": "stream",
          "name": "stdout",
          "text": [
            "\n",
            "Epoch 127 | Train Loss: 0.2138 | Top-1 Acc: 94.40% | Top-5 Acc: 99.00% | Superclass Acc: 95.94% "
          ]
        },
        {
          "output_type": "stream",
          "name": "stderr",
          "text": [
            "\n"
          ]
        },
        {
          "output_type": "stream",
          "name": "stdout",
          "text": [
            "| Val Loss: 1.4148 | Top-1 Acc: 68.06% | Top-5 Acc: 88.94% | Superclass Acc: 78.34%\n"
          ]
        },
        {
          "output_type": "stream",
          "name": "stderr",
          "text": [
            "100%|██████████| 625/625 [00:19<00:00, 32.11it/s]"
          ]
        },
        {
          "output_type": "stream",
          "name": "stdout",
          "text": [
            "\n",
            "Epoch 128 | Train Loss: 0.2132 | Top-1 Acc: 94.47% | Top-5 Acc: 99.00% | Superclass Acc: 96.14% "
          ]
        },
        {
          "output_type": "stream",
          "name": "stderr",
          "text": [
            "\n"
          ]
        },
        {
          "output_type": "stream",
          "name": "stdout",
          "text": [
            "| Val Loss: 1.4815 | Top-1 Acc: 66.80% | Top-5 Acc: 88.72% | Superclass Acc: 77.31%\n"
          ]
        },
        {
          "output_type": "stream",
          "name": "stderr",
          "text": [
            "100%|██████████| 625/625 [00:19<00:00, 32.00it/s]"
          ]
        },
        {
          "output_type": "stream",
          "name": "stdout",
          "text": [
            "\n",
            "Epoch 129 | Train Loss: 0.2084 | Top-1 Acc: 94.66% | Top-5 Acc: 99.03% | Superclass Acc: 96.25% "
          ]
        },
        {
          "output_type": "stream",
          "name": "stderr",
          "text": [
            "\n"
          ]
        },
        {
          "output_type": "stream",
          "name": "stdout",
          "text": [
            "| Val Loss: 1.4486 | Top-1 Acc: 67.46% | Top-5 Acc: 89.05% | Superclass Acc: 78.29%\n"
          ]
        },
        {
          "output_type": "stream",
          "name": "stderr",
          "text": [
            "100%|██████████| 625/625 [00:19<00:00, 31.95it/s]"
          ]
        },
        {
          "output_type": "stream",
          "name": "stdout",
          "text": [
            "\n",
            "Epoch 130 | Train Loss: 0.2053 | Top-1 Acc: 94.79% | Top-5 Acc: 99.10% | Superclass Acc: 96.33% "
          ]
        },
        {
          "output_type": "stream",
          "name": "stderr",
          "text": [
            "\n"
          ]
        },
        {
          "output_type": "stream",
          "name": "stdout",
          "text": [
            "| Val Loss: 1.4097 | Top-1 Acc: 67.92% | Top-5 Acc: 89.00% | Superclass Acc: 78.22%\n"
          ]
        },
        {
          "output_type": "stream",
          "name": "stderr",
          "text": [
            "100%|██████████| 625/625 [00:19<00:00, 31.93it/s]"
          ]
        },
        {
          "output_type": "stream",
          "name": "stdout",
          "text": [
            "\n",
            "Epoch 131 | Train Loss: 0.1971 | Top-1 Acc: 94.92% | Top-5 Acc: 99.08% | Superclass Acc: 96.31% "
          ]
        },
        {
          "output_type": "stream",
          "name": "stderr",
          "text": [
            "\n"
          ]
        },
        {
          "output_type": "stream",
          "name": "stdout",
          "text": [
            "| Val Loss: 1.4581 | Top-1 Acc: 67.90% | Top-5 Acc: 88.82% | Superclass Acc: 78.26%\n"
          ]
        },
        {
          "output_type": "stream",
          "name": "stderr",
          "text": [
            "100%|██████████| 625/625 [00:19<00:00, 32.05it/s]"
          ]
        },
        {
          "output_type": "stream",
          "name": "stdout",
          "text": [
            "\n",
            "Epoch 132 | Train Loss: 0.1881 | Top-1 Acc: 95.31% | Top-5 Acc: 99.15% | Superclass Acc: 96.75% "
          ]
        },
        {
          "output_type": "stream",
          "name": "stderr",
          "text": [
            "\n"
          ]
        },
        {
          "output_type": "stream",
          "name": "stdout",
          "text": [
            "| Val Loss: 1.4458 | Top-1 Acc: 67.92% | Top-5 Acc: 88.69% | Superclass Acc: 78.37%\n"
          ]
        },
        {
          "output_type": "stream",
          "name": "stderr",
          "text": [
            "100%|██████████| 625/625 [00:19<00:00, 32.13it/s]"
          ]
        },
        {
          "output_type": "stream",
          "name": "stdout",
          "text": [
            "\n",
            "Epoch 133 | Train Loss: 0.1822 | Top-1 Acc: 95.33% | Top-5 Acc: 99.19% | Superclass Acc: 96.64% "
          ]
        },
        {
          "output_type": "stream",
          "name": "stderr",
          "text": [
            "\n"
          ]
        },
        {
          "output_type": "stream",
          "name": "stdout",
          "text": [
            "| Val Loss: 1.4324 | Top-1 Acc: 68.02% | Top-5 Acc: 89.20% | Superclass Acc: 78.69%\n"
          ]
        },
        {
          "output_type": "stream",
          "name": "stderr",
          "text": [
            "100%|██████████| 625/625 [00:19<00:00, 32.12it/s]"
          ]
        },
        {
          "output_type": "stream",
          "name": "stdout",
          "text": [
            "\n",
            "Epoch 134 | Train Loss: 0.1819 | Top-1 Acc: 95.43% | Top-5 Acc: 99.21% | Superclass Acc: 96.76% "
          ]
        },
        {
          "output_type": "stream",
          "name": "stderr",
          "text": [
            "\n"
          ]
        },
        {
          "output_type": "stream",
          "name": "stdout",
          "text": [
            "| Val Loss: 1.4487 | Top-1 Acc: 67.38% | Top-5 Acc: 88.71% | Superclass Acc: 77.91%\n"
          ]
        },
        {
          "output_type": "stream",
          "name": "stderr",
          "text": [
            "100%|██████████| 625/625 [00:19<00:00, 32.26it/s]"
          ]
        },
        {
          "output_type": "stream",
          "name": "stdout",
          "text": [
            "\n",
            "Epoch 135 | Train Loss: 0.1680 | Top-1 Acc: 95.89% | Top-5 Acc: 99.22% | Superclass Acc: 97.00% "
          ]
        },
        {
          "output_type": "stream",
          "name": "stderr",
          "text": [
            "\n"
          ]
        },
        {
          "output_type": "stream",
          "name": "stdout",
          "text": [
            "| Val Loss: 1.4028 | Top-1 Acc: 68.64% | Top-5 Acc: 88.90% | Superclass Acc: 79.19%\n"
          ]
        },
        {
          "output_type": "stream",
          "name": "stderr",
          "text": [
            "100%|██████████| 625/625 [00:19<00:00, 31.97it/s]"
          ]
        },
        {
          "output_type": "stream",
          "name": "stdout",
          "text": [
            "\n",
            "Epoch 136 | Train Loss: 0.1764 | Top-1 Acc: 95.54% | Top-5 Acc: 99.18% | Superclass Acc: 96.78% "
          ]
        },
        {
          "output_type": "stream",
          "name": "stderr",
          "text": [
            "\n"
          ]
        },
        {
          "output_type": "stream",
          "name": "stdout",
          "text": [
            "| Val Loss: 1.4026 | Top-1 Acc: 68.67% | Top-5 Acc: 89.43% | Superclass Acc: 79.12%\n"
          ]
        },
        {
          "output_type": "stream",
          "name": "stderr",
          "text": [
            "100%|██████████| 625/625 [00:19<00:00, 32.10it/s]"
          ]
        },
        {
          "output_type": "stream",
          "name": "stdout",
          "text": [
            "\n",
            "Epoch 137 | Train Loss: 0.1691 | Top-1 Acc: 95.74% | Top-5 Acc: 99.17% | Superclass Acc: 96.95% "
          ]
        },
        {
          "output_type": "stream",
          "name": "stderr",
          "text": [
            "\n"
          ]
        },
        {
          "output_type": "stream",
          "name": "stdout",
          "text": [
            "| Val Loss: 1.3870 | Top-1 Acc: 68.49% | Top-5 Acc: 89.40% | Superclass Acc: 78.57%\n"
          ]
        },
        {
          "output_type": "stream",
          "name": "stderr",
          "text": [
            "100%|██████████| 625/625 [00:19<00:00, 31.94it/s]"
          ]
        },
        {
          "output_type": "stream",
          "name": "stdout",
          "text": [
            "\n",
            "Epoch 138 | Train Loss: 0.1570 | Top-1 Acc: 96.09% | Top-5 Acc: 99.28% | Superclass Acc: 97.19% "
          ]
        },
        {
          "output_type": "stream",
          "name": "stderr",
          "text": [
            "\n"
          ]
        },
        {
          "output_type": "stream",
          "name": "stdout",
          "text": [
            "| Val Loss: 1.3804 | Top-1 Acc: 68.36% | Top-5 Acc: 89.36% | Superclass Acc: 78.81%\n",
            "Validation loss improved by 0.0020. Saving model...\n"
          ]
        },
        {
          "output_type": "stream",
          "name": "stderr",
          "text": [
            "100%|██████████| 625/625 [00:19<00:00, 31.95it/s]"
          ]
        },
        {
          "output_type": "stream",
          "name": "stdout",
          "text": [
            "\n",
            "Epoch 139 | Train Loss: 0.1577 | Top-1 Acc: 96.11% | Top-5 Acc: 99.24% | Superclass Acc: 97.13% "
          ]
        },
        {
          "output_type": "stream",
          "name": "stderr",
          "text": [
            "\n"
          ]
        },
        {
          "output_type": "stream",
          "name": "stdout",
          "text": [
            "| Val Loss: 1.3778 | Top-1 Acc: 69.00% | Top-5 Acc: 89.55% | Superclass Acc: 79.19%\n",
            "Validation loss improved by 0.0026. Saving model...\n"
          ]
        },
        {
          "output_type": "stream",
          "name": "stderr",
          "text": [
            "100%|██████████| 625/625 [00:19<00:00, 32.29it/s]"
          ]
        },
        {
          "output_type": "stream",
          "name": "stdout",
          "text": [
            "\n",
            "Epoch 140 | Train Loss: 0.1513 | Top-1 Acc: 96.28% | Top-5 Acc: 99.28% | Superclass Acc: 97.34% "
          ]
        },
        {
          "output_type": "stream",
          "name": "stderr",
          "text": [
            "\n"
          ]
        },
        {
          "output_type": "stream",
          "name": "stdout",
          "text": [
            "| Val Loss: 1.3998 | Top-1 Acc: 68.50% | Top-5 Acc: 89.64% | Superclass Acc: 78.92%\n"
          ]
        },
        {
          "output_type": "stream",
          "name": "stderr",
          "text": [
            "100%|██████████| 625/625 [00:19<00:00, 31.82it/s]"
          ]
        },
        {
          "output_type": "stream",
          "name": "stdout",
          "text": [
            "\n",
            "Epoch 141 | Train Loss: 0.1547 | Top-1 Acc: 96.20% | Top-5 Acc: 99.28% | Superclass Acc: 97.32% "
          ]
        },
        {
          "output_type": "stream",
          "name": "stderr",
          "text": [
            "\n"
          ]
        },
        {
          "output_type": "stream",
          "name": "stdout",
          "text": [
            "| Val Loss: 1.4029 | Top-1 Acc: 68.70% | Top-5 Acc: 88.95% | Superclass Acc: 79.31%\n"
          ]
        },
        {
          "output_type": "stream",
          "name": "stderr",
          "text": [
            "100%|██████████| 625/625 [00:19<00:00, 31.95it/s]"
          ]
        },
        {
          "output_type": "stream",
          "name": "stdout",
          "text": [
            "\n",
            "Epoch 142 | Train Loss: 0.1388 | Top-1 Acc: 96.57% | Top-5 Acc: 99.44% | Superclass Acc: 97.50% "
          ]
        },
        {
          "output_type": "stream",
          "name": "stderr",
          "text": [
            "\n"
          ]
        },
        {
          "output_type": "stream",
          "name": "stdout",
          "text": [
            "| Val Loss: 1.3621 | Top-1 Acc: 69.11% | Top-5 Acc: 89.37% | Superclass Acc: 79.20%\n",
            "Validation loss improved by 0.0157. Saving model...\n"
          ]
        },
        {
          "output_type": "stream",
          "name": "stderr",
          "text": [
            "100%|██████████| 625/625 [00:19<00:00, 32.22it/s]"
          ]
        },
        {
          "output_type": "stream",
          "name": "stdout",
          "text": [
            "\n",
            "Epoch 143 | Train Loss: 0.1423 | Top-1 Acc: 96.50% | Top-5 Acc: 99.34% | Superclass Acc: 97.53% "
          ]
        },
        {
          "output_type": "stream",
          "name": "stderr",
          "text": [
            "\n"
          ]
        },
        {
          "output_type": "stream",
          "name": "stdout",
          "text": [
            "| Val Loss: 1.3962 | Top-1 Acc: 68.26% | Top-5 Acc: 89.15% | Superclass Acc: 78.82%\n"
          ]
        },
        {
          "output_type": "stream",
          "name": "stderr",
          "text": [
            "100%|██████████| 625/625 [00:19<00:00, 31.96it/s]"
          ]
        },
        {
          "output_type": "stream",
          "name": "stdout",
          "text": [
            "\n",
            "Epoch 144 | Train Loss: 0.1378 | Top-1 Acc: 96.64% | Top-5 Acc: 99.37% | Superclass Acc: 97.52% "
          ]
        },
        {
          "output_type": "stream",
          "name": "stderr",
          "text": [
            "\n"
          ]
        },
        {
          "output_type": "stream",
          "name": "stdout",
          "text": [
            "| Val Loss: 1.3599 | Top-1 Acc: 68.88% | Top-5 Acc: 89.84% | Superclass Acc: 79.23%\n",
            "Validation loss improved by 0.0021. Saving model...\n"
          ]
        },
        {
          "output_type": "stream",
          "name": "stderr",
          "text": [
            "100%|██████████| 625/625 [00:19<00:00, 31.99it/s]"
          ]
        },
        {
          "output_type": "stream",
          "name": "stdout",
          "text": [
            "\n",
            "Epoch 145 | Train Loss: 0.1311 | Top-1 Acc: 96.95% | Top-5 Acc: 99.34% | Superclass Acc: 97.72% "
          ]
        },
        {
          "output_type": "stream",
          "name": "stderr",
          "text": [
            "\n"
          ]
        },
        {
          "output_type": "stream",
          "name": "stdout",
          "text": [
            "| Val Loss: 1.3584 | Top-1 Acc: 68.89% | Top-5 Acc: 89.62% | Superclass Acc: 79.32%\n",
            "Validation loss improved by 0.0015. Saving model...\n"
          ]
        },
        {
          "output_type": "stream",
          "name": "stderr",
          "text": [
            "100%|██████████| 625/625 [00:19<00:00, 32.21it/s]"
          ]
        },
        {
          "output_type": "stream",
          "name": "stdout",
          "text": [
            "\n",
            "Epoch 146 | Train Loss: 0.1372 | Top-1 Acc: 96.67% | Top-5 Acc: 99.33% | Superclass Acc: 97.56% "
          ]
        },
        {
          "output_type": "stream",
          "name": "stderr",
          "text": [
            "\n"
          ]
        },
        {
          "output_type": "stream",
          "name": "stdout",
          "text": [
            "| Val Loss: 1.3619 | Top-1 Acc: 68.89% | Top-5 Acc: 89.29% | Superclass Acc: 79.05%\n"
          ]
        },
        {
          "output_type": "stream",
          "name": "stderr",
          "text": [
            "100%|██████████| 625/625 [00:19<00:00, 31.98it/s]"
          ]
        },
        {
          "output_type": "stream",
          "name": "stdout",
          "text": [
            "\n",
            "Epoch 147 | Train Loss: 0.1311 | Top-1 Acc: 96.82% | Top-5 Acc: 99.40% | Superclass Acc: 97.66% "
          ]
        },
        {
          "output_type": "stream",
          "name": "stderr",
          "text": [
            "\n"
          ]
        },
        {
          "output_type": "stream",
          "name": "stdout",
          "text": [
            "| Val Loss: 1.3520 | Top-1 Acc: 68.74% | Top-5 Acc: 89.45% | Superclass Acc: 79.14%\n",
            "Validation loss improved by 0.0064. Saving model...\n"
          ]
        },
        {
          "output_type": "stream",
          "name": "stderr",
          "text": [
            "100%|██████████| 625/625 [00:19<00:00, 31.88it/s]"
          ]
        },
        {
          "output_type": "stream",
          "name": "stdout",
          "text": [
            "\n",
            "Epoch 148 | Train Loss: 0.1263 | Top-1 Acc: 97.03% | Top-5 Acc: 99.38% | Superclass Acc: 97.84% "
          ]
        },
        {
          "output_type": "stream",
          "name": "stderr",
          "text": [
            "\n"
          ]
        },
        {
          "output_type": "stream",
          "name": "stdout",
          "text": [
            "| Val Loss: 1.3747 | Top-1 Acc: 69.00% | Top-5 Acc: 89.50% | Superclass Acc: 79.17%\n"
          ]
        },
        {
          "output_type": "stream",
          "name": "stderr",
          "text": [
            "100%|██████████| 625/625 [00:19<00:00, 32.20it/s]"
          ]
        },
        {
          "output_type": "stream",
          "name": "stdout",
          "text": [
            "\n",
            "Epoch 149 | Train Loss: 0.1203 | Top-1 Acc: 97.14% | Top-5 Acc: 99.45% | Superclass Acc: 97.88% "
          ]
        },
        {
          "output_type": "stream",
          "name": "stderr",
          "text": [
            "\n"
          ]
        },
        {
          "output_type": "stream",
          "name": "stdout",
          "text": [
            "| Val Loss: 1.3760 | Top-1 Acc: 68.67% | Top-5 Acc: 89.38% | Superclass Acc: 78.95%\n"
          ]
        },
        {
          "output_type": "stream",
          "name": "stderr",
          "text": [
            "100%|██████████| 625/625 [00:19<00:00, 32.20it/s]"
          ]
        },
        {
          "output_type": "stream",
          "name": "stdout",
          "text": [
            "\n",
            "Epoch 150 | Train Loss: 0.1165 | Top-1 Acc: 97.24% | Top-5 Acc: 99.42% | Superclass Acc: 98.00% "
          ]
        },
        {
          "output_type": "stream",
          "name": "stderr",
          "text": [
            "\n"
          ]
        },
        {
          "output_type": "stream",
          "name": "stdout",
          "text": [
            "| Val Loss: 1.3684 | Top-1 Acc: 69.04% | Top-5 Acc: 89.57% | Superclass Acc: 79.10%\n"
          ]
        },
        {
          "output_type": "stream",
          "name": "stderr",
          "text": [
            "100%|██████████| 625/625 [00:19<00:00, 32.12it/s]"
          ]
        },
        {
          "output_type": "stream",
          "name": "stdout",
          "text": [
            "\n",
            "Epoch 151 | Train Loss: 0.1128 | Top-1 Acc: 97.25% | Top-5 Acc: 99.52% | Superclass Acc: 98.00% "
          ]
        },
        {
          "output_type": "stream",
          "name": "stderr",
          "text": [
            "\n"
          ]
        },
        {
          "output_type": "stream",
          "name": "stdout",
          "text": [
            "| Val Loss: 1.3491 | Top-1 Acc: 69.51% | Top-5 Acc: 89.54% | Superclass Acc: 79.67%\n",
            "Validation loss improved by 0.0029. Saving model...\n"
          ]
        },
        {
          "output_type": "stream",
          "name": "stderr",
          "text": [
            "100%|██████████| 625/625 [00:19<00:00, 31.95it/s]"
          ]
        },
        {
          "output_type": "stream",
          "name": "stdout",
          "text": [
            "\n",
            "Epoch 152 | Train Loss: 0.1116 | Top-1 Acc: 97.36% | Top-5 Acc: 99.48% | Superclass Acc: 98.07% "
          ]
        },
        {
          "output_type": "stream",
          "name": "stderr",
          "text": [
            "\n"
          ]
        },
        {
          "output_type": "stream",
          "name": "stdout",
          "text": [
            "| Val Loss: 1.3263 | Top-1 Acc: 69.75% | Top-5 Acc: 89.48% | Superclass Acc: 80.26%\n",
            "Validation loss improved by 0.0228. Saving model...\n"
          ]
        },
        {
          "output_type": "stream",
          "name": "stderr",
          "text": [
            "100%|██████████| 625/625 [00:19<00:00, 32.20it/s]"
          ]
        },
        {
          "output_type": "stream",
          "name": "stdout",
          "text": [
            "\n",
            "Epoch 153 | Train Loss: 0.1134 | Top-1 Acc: 97.35% | Top-5 Acc: 99.50% | Superclass Acc: 98.07% "
          ]
        },
        {
          "output_type": "stream",
          "name": "stderr",
          "text": [
            "\n"
          ]
        },
        {
          "output_type": "stream",
          "name": "stdout",
          "text": [
            "| Val Loss: 1.3357 | Top-1 Acc: 69.17% | Top-5 Acc: 89.53% | Superclass Acc: 79.59%\n"
          ]
        },
        {
          "output_type": "stream",
          "name": "stderr",
          "text": [
            "100%|██████████| 625/625 [00:19<00:00, 31.88it/s]"
          ]
        },
        {
          "output_type": "stream",
          "name": "stdout",
          "text": [
            "\n",
            "Epoch 154 | Train Loss: 0.1101 | Top-1 Acc: 97.40% | Top-5 Acc: 99.52% | Superclass Acc: 98.08% "
          ]
        },
        {
          "output_type": "stream",
          "name": "stderr",
          "text": [
            "\n"
          ]
        },
        {
          "output_type": "stream",
          "name": "stdout",
          "text": [
            "| Val Loss: 1.3348 | Top-1 Acc: 69.29% | Top-5 Acc: 89.70% | Superclass Acc: 79.71%\n"
          ]
        },
        {
          "output_type": "stream",
          "name": "stderr",
          "text": [
            "100%|██████████| 625/625 [00:19<00:00, 31.85it/s]"
          ]
        },
        {
          "output_type": "stream",
          "name": "stdout",
          "text": [
            "\n",
            "Epoch 155 | Train Loss: 0.1129 | Top-1 Acc: 97.28% | Top-5 Acc: 99.44% | Superclass Acc: 98.04% "
          ]
        },
        {
          "output_type": "stream",
          "name": "stderr",
          "text": [
            "\n"
          ]
        },
        {
          "output_type": "stream",
          "name": "stdout",
          "text": [
            "| Val Loss: 1.3467 | Top-1 Acc: 69.25% | Top-5 Acc: 89.35% | Superclass Acc: 79.67%\n"
          ]
        },
        {
          "output_type": "stream",
          "name": "stderr",
          "text": [
            "100%|██████████| 625/625 [00:19<00:00, 31.90it/s]"
          ]
        },
        {
          "output_type": "stream",
          "name": "stdout",
          "text": [
            "\n",
            "Epoch 156 | Train Loss: 0.1053 | Top-1 Acc: 97.57% | Top-5 Acc: 99.50% | Superclass Acc: 98.21% "
          ]
        },
        {
          "output_type": "stream",
          "name": "stderr",
          "text": [
            "\n"
          ]
        },
        {
          "output_type": "stream",
          "name": "stdout",
          "text": [
            "| Val Loss: 1.3341 | Top-1 Acc: 69.70% | Top-5 Acc: 89.40% | Superclass Acc: 79.90%\n"
          ]
        },
        {
          "output_type": "stream",
          "name": "stderr",
          "text": [
            "100%|██████████| 625/625 [00:19<00:00, 32.10it/s]"
          ]
        },
        {
          "output_type": "stream",
          "name": "stdout",
          "text": [
            "\n",
            "Epoch 157 | Train Loss: 0.1002 | Top-1 Acc: 97.60% | Top-5 Acc: 99.53% | Superclass Acc: 98.21% "
          ]
        },
        {
          "output_type": "stream",
          "name": "stderr",
          "text": [
            "\n"
          ]
        },
        {
          "output_type": "stream",
          "name": "stdout",
          "text": [
            "| Val Loss: 1.3391 | Top-1 Acc: 69.23% | Top-5 Acc: 89.62% | Superclass Acc: 79.56%\n"
          ]
        },
        {
          "output_type": "stream",
          "name": "stderr",
          "text": [
            "100%|██████████| 625/625 [00:19<00:00, 32.11it/s]"
          ]
        },
        {
          "output_type": "stream",
          "name": "stdout",
          "text": [
            "\n",
            "Epoch 158 | Train Loss: 0.0977 | Top-1 Acc: 97.75% | Top-5 Acc: 99.57% | Superclass Acc: 98.40% "
          ]
        },
        {
          "output_type": "stream",
          "name": "stderr",
          "text": [
            "\n"
          ]
        },
        {
          "output_type": "stream",
          "name": "stdout",
          "text": [
            "| Val Loss: 1.3261 | Top-1 Acc: 69.39% | Top-5 Acc: 89.59% | Superclass Acc: 79.64%\n",
            "Validation loss improved by 0.0001. Saving model...\n"
          ]
        },
        {
          "output_type": "stream",
          "name": "stderr",
          "text": [
            "100%|██████████| 625/625 [00:19<00:00, 31.86it/s]"
          ]
        },
        {
          "output_type": "stream",
          "name": "stdout",
          "text": [
            "\n",
            "Epoch 159 | Train Loss: 0.0963 | Top-1 Acc: 97.73% | Top-5 Acc: 99.60% | Superclass Acc: 98.33% "
          ]
        },
        {
          "output_type": "stream",
          "name": "stderr",
          "text": [
            "\n"
          ]
        },
        {
          "output_type": "stream",
          "name": "stdout",
          "text": [
            "| Val Loss: 1.3362 | Top-1 Acc: 69.42% | Top-5 Acc: 89.88% | Superclass Acc: 79.45%\n"
          ]
        },
        {
          "output_type": "stream",
          "name": "stderr",
          "text": [
            "100%|██████████| 625/625 [00:19<00:00, 32.07it/s]"
          ]
        },
        {
          "output_type": "stream",
          "name": "stdout",
          "text": [
            "\n",
            "Epoch 160 | Train Loss: 0.0957 | Top-1 Acc: 97.83% | Top-5 Acc: 99.55% | Superclass Acc: 98.45% "
          ]
        },
        {
          "output_type": "stream",
          "name": "stderr",
          "text": [
            "\n"
          ]
        },
        {
          "output_type": "stream",
          "name": "stdout",
          "text": [
            "| Val Loss: 1.3212 | Top-1 Acc: 69.74% | Top-5 Acc: 89.70% | Superclass Acc: 79.73%\n",
            "Validation loss improved by 0.0049. Saving model...\n"
          ]
        },
        {
          "output_type": "stream",
          "name": "stderr",
          "text": [
            "100%|██████████| 625/625 [00:19<00:00, 31.96it/s]"
          ]
        },
        {
          "output_type": "stream",
          "name": "stdout",
          "text": [
            "\n",
            "Epoch 161 | Train Loss: 0.0935 | Top-1 Acc: 97.83% | Top-5 Acc: 99.57% | Superclass Acc: 98.42% "
          ]
        },
        {
          "output_type": "stream",
          "name": "stderr",
          "text": [
            "\n"
          ]
        },
        {
          "output_type": "stream",
          "name": "stdout",
          "text": [
            "| Val Loss: 1.3202 | Top-1 Acc: 69.74% | Top-5 Acc: 89.63% | Superclass Acc: 79.76%\n",
            "Validation loss improved by 0.0010. Saving model...\n"
          ]
        },
        {
          "output_type": "stream",
          "name": "stderr",
          "text": [
            "100%|██████████| 625/625 [00:19<00:00, 32.12it/s]"
          ]
        },
        {
          "output_type": "stream",
          "name": "stdout",
          "text": [
            "\n",
            "Epoch 162 | Train Loss: 0.0847 | Top-1 Acc: 98.04% | Top-5 Acc: 99.66% | Superclass Acc: 98.58% "
          ]
        },
        {
          "output_type": "stream",
          "name": "stderr",
          "text": [
            "\n"
          ]
        },
        {
          "output_type": "stream",
          "name": "stdout",
          "text": [
            "| Val Loss: 1.3238 | Top-1 Acc: 69.76% | Top-5 Acc: 89.63% | Superclass Acc: 80.02%\n"
          ]
        },
        {
          "output_type": "stream",
          "name": "stderr",
          "text": [
            "100%|██████████| 625/625 [00:19<00:00, 31.96it/s]"
          ]
        },
        {
          "output_type": "stream",
          "name": "stdout",
          "text": [
            "\n",
            "Epoch 163 | Train Loss: 0.0851 | Top-1 Acc: 98.06% | Top-5 Acc: 99.69% | Superclass Acc: 98.64% "
          ]
        },
        {
          "output_type": "stream",
          "name": "stderr",
          "text": [
            "\n"
          ]
        },
        {
          "output_type": "stream",
          "name": "stdout",
          "text": [
            "| Val Loss: 1.3338 | Top-1 Acc: 69.67% | Top-5 Acc: 89.33% | Superclass Acc: 79.64%\n"
          ]
        },
        {
          "output_type": "stream",
          "name": "stderr",
          "text": [
            "100%|██████████| 625/625 [00:19<00:00, 32.03it/s]"
          ]
        },
        {
          "output_type": "stream",
          "name": "stdout",
          "text": [
            "\n",
            "Epoch 164 | Train Loss: 0.0871 | Top-1 Acc: 97.99% | Top-5 Acc: 99.62% | Superclass Acc: 98.54% "
          ]
        },
        {
          "output_type": "stream",
          "name": "stderr",
          "text": [
            "\n"
          ]
        },
        {
          "output_type": "stream",
          "name": "stdout",
          "text": [
            "| Val Loss: 1.3046 | Top-1 Acc: 70.17% | Top-5 Acc: 89.80% | Superclass Acc: 80.19%\n",
            "Validation loss improved by 0.0155. Saving model...\n"
          ]
        },
        {
          "output_type": "stream",
          "name": "stderr",
          "text": [
            "100%|██████████| 625/625 [00:19<00:00, 32.09it/s]"
          ]
        },
        {
          "output_type": "stream",
          "name": "stdout",
          "text": [
            "\n",
            "Epoch 165 | Train Loss: 0.0866 | Top-1 Acc: 98.07% | Top-5 Acc: 99.58% | Superclass Acc: 98.54% "
          ]
        },
        {
          "output_type": "stream",
          "name": "stderr",
          "text": [
            "\n"
          ]
        },
        {
          "output_type": "stream",
          "name": "stdout",
          "text": [
            "| Val Loss: 1.3055 | Top-1 Acc: 70.15% | Top-5 Acc: 89.61% | Superclass Acc: 80.07%\n"
          ]
        },
        {
          "output_type": "stream",
          "name": "stderr",
          "text": [
            "100%|██████████| 625/625 [00:19<00:00, 32.03it/s]"
          ]
        },
        {
          "output_type": "stream",
          "name": "stdout",
          "text": [
            "\n",
            "Epoch 166 | Train Loss: 0.0815 | Top-1 Acc: 98.19% | Top-5 Acc: 99.63% | Superclass Acc: 98.67% "
          ]
        },
        {
          "output_type": "stream",
          "name": "stderr",
          "text": [
            "\n"
          ]
        },
        {
          "output_type": "stream",
          "name": "stdout",
          "text": [
            "| Val Loss: 1.3046 | Top-1 Acc: 69.88% | Top-5 Acc: 89.71% | Superclass Acc: 80.06%\n",
            "Validation loss improved by 0.0001. Saving model...\n"
          ]
        },
        {
          "output_type": "stream",
          "name": "stderr",
          "text": [
            "100%|██████████| 625/625 [00:19<00:00, 31.96it/s]"
          ]
        },
        {
          "output_type": "stream",
          "name": "stdout",
          "text": [
            "\n",
            "Epoch 167 | Train Loss: 0.0836 | Top-1 Acc: 98.03% | Top-5 Acc: 99.64% | Superclass Acc: 98.55% "
          ]
        },
        {
          "output_type": "stream",
          "name": "stderr",
          "text": [
            "\n"
          ]
        },
        {
          "output_type": "stream",
          "name": "stdout",
          "text": [
            "| Val Loss: 1.2980 | Top-1 Acc: 70.17% | Top-5 Acc: 89.74% | Superclass Acc: 80.08%\n",
            "Validation loss improved by 0.0066. Saving model...\n"
          ]
        },
        {
          "output_type": "stream",
          "name": "stderr",
          "text": [
            "100%|██████████| 625/625 [00:19<00:00, 31.88it/s]"
          ]
        },
        {
          "output_type": "stream",
          "name": "stdout",
          "text": [
            "\n",
            "Epoch 168 | Train Loss: 0.0820 | Top-1 Acc: 98.14% | Top-5 Acc: 99.64% | Superclass Acc: 98.69% "
          ]
        },
        {
          "output_type": "stream",
          "name": "stderr",
          "text": [
            "\n"
          ]
        },
        {
          "output_type": "stream",
          "name": "stdout",
          "text": [
            "| Val Loss: 1.2957 | Top-1 Acc: 70.01% | Top-5 Acc: 89.83% | Superclass Acc: 80.09%\n",
            "Validation loss improved by 0.0023. Saving model...\n"
          ]
        },
        {
          "output_type": "stream",
          "name": "stderr",
          "text": [
            "100%|██████████| 625/625 [00:19<00:00, 32.28it/s]"
          ]
        },
        {
          "output_type": "stream",
          "name": "stdout",
          "text": [
            "\n",
            "Epoch 169 | Train Loss: 0.0786 | Top-1 Acc: 98.21% | Top-5 Acc: 99.64% | Superclass Acc: 98.67% "
          ]
        },
        {
          "output_type": "stream",
          "name": "stderr",
          "text": [
            "\n"
          ]
        },
        {
          "output_type": "stream",
          "name": "stdout",
          "text": [
            "| Val Loss: 1.2920 | Top-1 Acc: 70.00% | Top-5 Acc: 89.68% | Superclass Acc: 80.11%\n",
            "Validation loss improved by 0.0037. Saving model...\n"
          ]
        },
        {
          "output_type": "stream",
          "name": "stderr",
          "text": [
            "100%|██████████| 625/625 [00:19<00:00, 32.05it/s]"
          ]
        },
        {
          "output_type": "stream",
          "name": "stdout",
          "text": [
            "\n",
            "Epoch 170 | Train Loss: 0.0767 | Top-1 Acc: 98.23% | Top-5 Acc: 99.63% | Superclass Acc: 98.67% "
          ]
        },
        {
          "output_type": "stream",
          "name": "stderr",
          "text": [
            "\n"
          ]
        },
        {
          "output_type": "stream",
          "name": "stdout",
          "text": [
            "| Val Loss: 1.2875 | Top-1 Acc: 70.36% | Top-5 Acc: 89.86% | Superclass Acc: 80.34%\n",
            "Validation loss improved by 0.0045. Saving model...\n"
          ]
        },
        {
          "output_type": "stream",
          "name": "stderr",
          "text": [
            "100%|██████████| 625/625 [00:19<00:00, 32.03it/s]"
          ]
        },
        {
          "output_type": "stream",
          "name": "stdout",
          "text": [
            "\n",
            "Epoch 171 | Train Loss: 0.0758 | Top-1 Acc: 98.28% | Top-5 Acc: 99.66% | Superclass Acc: 98.72% "
          ]
        },
        {
          "output_type": "stream",
          "name": "stderr",
          "text": [
            "\n"
          ]
        },
        {
          "output_type": "stream",
          "name": "stdout",
          "text": [
            "| Val Loss: 1.2870 | Top-1 Acc: 70.42% | Top-5 Acc: 89.87% | Superclass Acc: 80.43%\n",
            "Validation loss improved by 0.0005. Saving model...\n"
          ]
        },
        {
          "output_type": "stream",
          "name": "stderr",
          "text": [
            "100%|██████████| 625/625 [00:19<00:00, 32.27it/s]"
          ]
        },
        {
          "output_type": "stream",
          "name": "stdout",
          "text": [
            "\n",
            "Epoch 172 | Train Loss: 0.0736 | Top-1 Acc: 98.34% | Top-5 Acc: 99.68% | Superclass Acc: 98.74% "
          ]
        },
        {
          "output_type": "stream",
          "name": "stderr",
          "text": [
            "\n"
          ]
        },
        {
          "output_type": "stream",
          "name": "stdout",
          "text": [
            "| Val Loss: 1.2929 | Top-1 Acc: 70.14% | Top-5 Acc: 89.93% | Superclass Acc: 80.33%\n"
          ]
        },
        {
          "output_type": "stream",
          "name": "stderr",
          "text": [
            "100%|██████████| 625/625 [00:19<00:00, 31.91it/s]"
          ]
        },
        {
          "output_type": "stream",
          "name": "stdout",
          "text": [
            "\n",
            "Epoch 173 | Train Loss: 0.0711 | Top-1 Acc: 98.41% | Top-5 Acc: 99.71% | Superclass Acc: 98.74% "
          ]
        },
        {
          "output_type": "stream",
          "name": "stderr",
          "text": [
            "\n"
          ]
        },
        {
          "output_type": "stream",
          "name": "stdout",
          "text": [
            "| Val Loss: 1.2906 | Top-1 Acc: 70.12% | Top-5 Acc: 89.74% | Superclass Acc: 80.21%\n"
          ]
        },
        {
          "output_type": "stream",
          "name": "stderr",
          "text": [
            "100%|██████████| 625/625 [00:19<00:00, 31.81it/s]"
          ]
        },
        {
          "output_type": "stream",
          "name": "stdout",
          "text": [
            "\n",
            "Epoch 174 | Train Loss: 0.0688 | Top-1 Acc: 98.50% | Top-5 Acc: 99.73% | Superclass Acc: 98.88% "
          ]
        },
        {
          "output_type": "stream",
          "name": "stderr",
          "text": [
            "\n"
          ]
        },
        {
          "output_type": "stream",
          "name": "stdout",
          "text": [
            "| Val Loss: 1.2910 | Top-1 Acc: 70.38% | Top-5 Acc: 89.62% | Superclass Acc: 80.43%\n"
          ]
        },
        {
          "output_type": "stream",
          "name": "stderr",
          "text": [
            "100%|██████████| 625/625 [00:19<00:00, 32.08it/s]"
          ]
        },
        {
          "output_type": "stream",
          "name": "stdout",
          "text": [
            "\n",
            "Epoch 175 | Train Loss: 0.0709 | Top-1 Acc: 98.37% | Top-5 Acc: 99.68% | Superclass Acc: 98.80% "
          ]
        },
        {
          "output_type": "stream",
          "name": "stderr",
          "text": [
            "\n"
          ]
        },
        {
          "output_type": "stream",
          "name": "stdout",
          "text": [
            "| Val Loss: 1.2835 | Top-1 Acc: 70.22% | Top-5 Acc: 89.64% | Superclass Acc: 80.34%\n",
            "Validation loss improved by 0.0036. Saving model...\n"
          ]
        },
        {
          "output_type": "stream",
          "name": "stderr",
          "text": [
            "100%|██████████| 625/625 [00:19<00:00, 32.16it/s]"
          ]
        },
        {
          "output_type": "stream",
          "name": "stdout",
          "text": [
            "\n",
            "Epoch 176 | Train Loss: 0.0733 | Top-1 Acc: 98.37% | Top-5 Acc: 99.66% | Superclass Acc: 98.79% "
          ]
        },
        {
          "output_type": "stream",
          "name": "stderr",
          "text": [
            "\n"
          ]
        },
        {
          "output_type": "stream",
          "name": "stdout",
          "text": [
            "| Val Loss: 1.2872 | Top-1 Acc: 70.19% | Top-5 Acc: 89.68% | Superclass Acc: 80.22%\n"
          ]
        },
        {
          "output_type": "stream",
          "name": "stderr",
          "text": [
            "100%|██████████| 625/625 [00:19<00:00, 31.80it/s]"
          ]
        },
        {
          "output_type": "stream",
          "name": "stdout",
          "text": [
            "\n",
            "Epoch 177 | Train Loss: 0.0668 | Top-1 Acc: 98.53% | Top-5 Acc: 99.73% | Superclass Acc: 98.95% "
          ]
        },
        {
          "output_type": "stream",
          "name": "stderr",
          "text": [
            "\n"
          ]
        },
        {
          "output_type": "stream",
          "name": "stdout",
          "text": [
            "| Val Loss: 1.2883 | Top-1 Acc: 69.94% | Top-5 Acc: 89.74% | Superclass Acc: 80.07%\n"
          ]
        },
        {
          "output_type": "stream",
          "name": "stderr",
          "text": [
            "100%|██████████| 625/625 [00:19<00:00, 31.83it/s]"
          ]
        },
        {
          "output_type": "stream",
          "name": "stdout",
          "text": [
            "\n",
            "Epoch 178 | Train Loss: 0.0687 | Top-1 Acc: 98.42% | Top-5 Acc: 99.69% | Superclass Acc: 98.81% "
          ]
        },
        {
          "output_type": "stream",
          "name": "stderr",
          "text": [
            "\n"
          ]
        },
        {
          "output_type": "stream",
          "name": "stdout",
          "text": [
            "| Val Loss: 1.2906 | Top-1 Acc: 70.00% | Top-5 Acc: 89.67% | Superclass Acc: 80.26%\n"
          ]
        },
        {
          "output_type": "stream",
          "name": "stderr",
          "text": [
            "100%|██████████| 625/625 [00:19<00:00, 31.97it/s]"
          ]
        },
        {
          "output_type": "stream",
          "name": "stdout",
          "text": [
            "\n",
            "Epoch 179 | Train Loss: 0.0642 | Top-1 Acc: 98.56% | Top-5 Acc: 99.74% | Superclass Acc: 98.91% "
          ]
        },
        {
          "output_type": "stream",
          "name": "stderr",
          "text": [
            "\n"
          ]
        },
        {
          "output_type": "stream",
          "name": "stdout",
          "text": [
            "| Val Loss: 1.2797 | Top-1 Acc: 70.27% | Top-5 Acc: 89.77% | Superclass Acc: 80.33%\n",
            "Validation loss improved by 0.0038. Saving model...\n"
          ]
        },
        {
          "output_type": "stream",
          "name": "stderr",
          "text": [
            "100%|██████████| 625/625 [00:19<00:00, 31.99it/s]"
          ]
        },
        {
          "output_type": "stream",
          "name": "stdout",
          "text": [
            "\n",
            "Epoch 180 | Train Loss: 0.0659 | Top-1 Acc: 98.50% | Top-5 Acc: 99.73% | Superclass Acc: 98.88% "
          ]
        },
        {
          "output_type": "stream",
          "name": "stderr",
          "text": [
            "\n"
          ]
        },
        {
          "output_type": "stream",
          "name": "stdout",
          "text": [
            "| Val Loss: 1.2782 | Top-1 Acc: 70.34% | Top-5 Acc: 89.90% | Superclass Acc: 80.41%\n",
            "Validation loss improved by 0.0015. Saving model...\n"
          ]
        },
        {
          "output_type": "stream",
          "name": "stderr",
          "text": [
            "100%|██████████| 625/625 [00:19<00:00, 31.92it/s]"
          ]
        },
        {
          "output_type": "stream",
          "name": "stdout",
          "text": [
            "\n",
            "Epoch 181 | Train Loss: 0.0667 | Top-1 Acc: 98.46% | Top-5 Acc: 99.73% | Superclass Acc: 98.83% "
          ]
        },
        {
          "output_type": "stream",
          "name": "stderr",
          "text": [
            "\n"
          ]
        },
        {
          "output_type": "stream",
          "name": "stdout",
          "text": [
            "| Val Loss: 1.2801 | Top-1 Acc: 70.48% | Top-5 Acc: 89.72% | Superclass Acc: 80.59%\n"
          ]
        },
        {
          "output_type": "stream",
          "name": "stderr",
          "text": [
            "100%|██████████| 625/625 [00:19<00:00, 32.07it/s]"
          ]
        },
        {
          "output_type": "stream",
          "name": "stdout",
          "text": [
            "\n",
            "Epoch 182 | Train Loss: 0.0643 | Top-1 Acc: 98.54% | Top-5 Acc: 99.76% | Superclass Acc: 98.90% "
          ]
        },
        {
          "output_type": "stream",
          "name": "stderr",
          "text": [
            "\n"
          ]
        },
        {
          "output_type": "stream",
          "name": "stdout",
          "text": [
            "| Val Loss: 1.2763 | Top-1 Acc: 70.47% | Top-5 Acc: 89.68% | Superclass Acc: 80.50%\n",
            "Validation loss improved by 0.0019. Saving model...\n"
          ]
        },
        {
          "output_type": "stream",
          "name": "stderr",
          "text": [
            "100%|██████████| 625/625 [00:19<00:00, 31.85it/s]"
          ]
        },
        {
          "output_type": "stream",
          "name": "stdout",
          "text": [
            "\n",
            "Epoch 183 | Train Loss: 0.0630 | Top-1 Acc: 98.62% | Top-5 Acc: 99.75% | Superclass Acc: 98.92% "
          ]
        },
        {
          "output_type": "stream",
          "name": "stderr",
          "text": [
            "\n"
          ]
        },
        {
          "output_type": "stream",
          "name": "stdout",
          "text": [
            "| Val Loss: 1.2778 | Top-1 Acc: 70.41% | Top-5 Acc: 89.79% | Superclass Acc: 80.39%\n"
          ]
        },
        {
          "output_type": "stream",
          "name": "stderr",
          "text": [
            "100%|██████████| 625/625 [00:19<00:00, 31.96it/s]"
          ]
        },
        {
          "output_type": "stream",
          "name": "stdout",
          "text": [
            "\n",
            "Epoch 184 | Train Loss: 0.0625 | Top-1 Acc: 98.59% | Top-5 Acc: 99.77% | Superclass Acc: 98.98% "
          ]
        },
        {
          "output_type": "stream",
          "name": "stderr",
          "text": [
            "\n"
          ]
        },
        {
          "output_type": "stream",
          "name": "stdout",
          "text": [
            "| Val Loss: 1.2754 | Top-1 Acc: 70.43% | Top-5 Acc: 89.76% | Superclass Acc: 80.40%\n",
            "Validation loss improved by 0.0009. Saving model...\n"
          ]
        },
        {
          "output_type": "stream",
          "name": "stderr",
          "text": [
            "100%|██████████| 625/625 [00:19<00:00, 31.80it/s]"
          ]
        },
        {
          "output_type": "stream",
          "name": "stdout",
          "text": [
            "\n",
            "Epoch 185 | Train Loss: 0.0599 | Top-1 Acc: 98.71% | Top-5 Acc: 99.74% | Superclass Acc: 99.05% "
          ]
        },
        {
          "output_type": "stream",
          "name": "stderr",
          "text": [
            "\n"
          ]
        },
        {
          "output_type": "stream",
          "name": "stdout",
          "text": [
            "| Val Loss: 1.2725 | Top-1 Acc: 70.19% | Top-5 Acc: 89.96% | Superclass Acc: 80.25%\n",
            "Validation loss improved by 0.0029. Saving model...\n"
          ]
        },
        {
          "output_type": "stream",
          "name": "stderr",
          "text": [
            "100%|██████████| 625/625 [00:19<00:00, 31.85it/s]"
          ]
        },
        {
          "output_type": "stream",
          "name": "stdout",
          "text": [
            "\n",
            "Epoch 186 | Train Loss: 0.0604 | Top-1 Acc: 98.62% | Top-5 Acc: 99.77% | Superclass Acc: 98.98% "
          ]
        },
        {
          "output_type": "stream",
          "name": "stderr",
          "text": [
            "\n"
          ]
        },
        {
          "output_type": "stream",
          "name": "stdout",
          "text": [
            "| Val Loss: 1.2792 | Top-1 Acc: 70.26% | Top-5 Acc: 89.94% | Superclass Acc: 80.34%\n"
          ]
        },
        {
          "output_type": "stream",
          "name": "stderr",
          "text": [
            "100%|██████████| 625/625 [00:19<00:00, 32.07it/s]"
          ]
        },
        {
          "output_type": "stream",
          "name": "stdout",
          "text": [
            "\n",
            "Epoch 187 | Train Loss: 0.0598 | Top-1 Acc: 98.67% | Top-5 Acc: 99.78% | Superclass Acc: 98.98% "
          ]
        },
        {
          "output_type": "stream",
          "name": "stderr",
          "text": [
            "\n"
          ]
        },
        {
          "output_type": "stream",
          "name": "stdout",
          "text": [
            "| Val Loss: 1.2779 | Top-1 Acc: 70.39% | Top-5 Acc: 89.91% | Superclass Acc: 80.44%\n"
          ]
        },
        {
          "output_type": "stream",
          "name": "stderr",
          "text": [
            "100%|██████████| 625/625 [00:19<00:00, 31.96it/s]"
          ]
        },
        {
          "output_type": "stream",
          "name": "stdout",
          "text": [
            "\n",
            "Epoch 188 | Train Loss: 0.0610 | Top-1 Acc: 98.66% | Top-5 Acc: 99.74% | Superclass Acc: 98.98% "
          ]
        },
        {
          "output_type": "stream",
          "name": "stderr",
          "text": [
            "\n"
          ]
        },
        {
          "output_type": "stream",
          "name": "stdout",
          "text": [
            "| Val Loss: 1.2793 | Top-1 Acc: 70.51% | Top-5 Acc: 89.76% | Superclass Acc: 80.56%\n"
          ]
        },
        {
          "output_type": "stream",
          "name": "stderr",
          "text": [
            "100%|██████████| 625/625 [00:19<00:00, 31.73it/s]"
          ]
        },
        {
          "output_type": "stream",
          "name": "stdout",
          "text": [
            "\n",
            "Epoch 189 | Train Loss: 0.0628 | Top-1 Acc: 98.56% | Top-5 Acc: 99.73% | Superclass Acc: 98.90% "
          ]
        },
        {
          "output_type": "stream",
          "name": "stderr",
          "text": [
            "\n"
          ]
        },
        {
          "output_type": "stream",
          "name": "stdout",
          "text": [
            "| Val Loss: 1.2802 | Top-1 Acc: 70.35% | Top-5 Acc: 89.91% | Superclass Acc: 80.48%\n"
          ]
        },
        {
          "output_type": "stream",
          "name": "stderr",
          "text": [
            "100%|██████████| 625/625 [00:19<00:00, 31.95it/s]"
          ]
        },
        {
          "output_type": "stream",
          "name": "stdout",
          "text": [
            "\n",
            "Epoch 190 | Train Loss: 0.0598 | Top-1 Acc: 98.70% | Top-5 Acc: 99.77% | Superclass Acc: 99.01% "
          ]
        },
        {
          "output_type": "stream",
          "name": "stderr",
          "text": [
            "\n"
          ]
        },
        {
          "output_type": "stream",
          "name": "stdout",
          "text": [
            "| Val Loss: 1.2757 | Top-1 Acc: 70.31% | Top-5 Acc: 89.97% | Superclass Acc: 80.54%\n"
          ]
        },
        {
          "output_type": "stream",
          "name": "stderr",
          "text": [
            "100%|██████████| 625/625 [00:19<00:00, 32.21it/s]"
          ]
        },
        {
          "output_type": "stream",
          "name": "stdout",
          "text": [
            "\n",
            "Epoch 191 | Train Loss: 0.0624 | Top-1 Acc: 98.56% | Top-5 Acc: 99.72% | Superclass Acc: 98.92% "
          ]
        },
        {
          "output_type": "stream",
          "name": "stderr",
          "text": [
            "\n"
          ]
        },
        {
          "output_type": "stream",
          "name": "stdout",
          "text": [
            "| Val Loss: 1.2688 | Top-1 Acc: 70.46% | Top-5 Acc: 90.00% | Superclass Acc: 80.59%\n",
            "Validation loss improved by 0.0037. Saving model...\n"
          ]
        },
        {
          "output_type": "stream",
          "name": "stderr",
          "text": [
            "100%|██████████| 625/625 [00:19<00:00, 31.76it/s]"
          ]
        },
        {
          "output_type": "stream",
          "name": "stdout",
          "text": [
            "\n",
            "Epoch 192 | Train Loss: 0.0625 | Top-1 Acc: 98.62% | Top-5 Acc: 99.73% | Superclass Acc: 98.97% "
          ]
        },
        {
          "output_type": "stream",
          "name": "stderr",
          "text": [
            "\n"
          ]
        },
        {
          "output_type": "stream",
          "name": "stdout",
          "text": [
            "| Val Loss: 1.2748 | Top-1 Acc: 70.24% | Top-5 Acc: 89.91% | Superclass Acc: 80.37%\n"
          ]
        },
        {
          "output_type": "stream",
          "name": "stderr",
          "text": [
            "100%|██████████| 625/625 [00:19<00:00, 32.13it/s]"
          ]
        },
        {
          "output_type": "stream",
          "name": "stdout",
          "text": [
            "\n",
            "Epoch 193 | Train Loss: 0.0594 | Top-1 Acc: 98.72% | Top-5 Acc: 99.72% | Superclass Acc: 99.04% "
          ]
        },
        {
          "output_type": "stream",
          "name": "stderr",
          "text": [
            "\n"
          ]
        },
        {
          "output_type": "stream",
          "name": "stdout",
          "text": [
            "| Val Loss: 1.2778 | Top-1 Acc: 70.41% | Top-5 Acc: 89.90% | Superclass Acc: 80.44%\n"
          ]
        },
        {
          "output_type": "stream",
          "name": "stderr",
          "text": [
            "100%|██████████| 625/625 [00:19<00:00, 31.96it/s]"
          ]
        },
        {
          "output_type": "stream",
          "name": "stdout",
          "text": [
            "\n",
            "Epoch 194 | Train Loss: 0.0619 | Top-1 Acc: 98.58% | Top-5 Acc: 99.76% | Superclass Acc: 98.97% "
          ]
        },
        {
          "output_type": "stream",
          "name": "stderr",
          "text": [
            "\n"
          ]
        },
        {
          "output_type": "stream",
          "name": "stdout",
          "text": [
            "| Val Loss: 1.2739 | Top-1 Acc: 70.42% | Top-5 Acc: 89.86% | Superclass Acc: 80.41%\n"
          ]
        },
        {
          "output_type": "stream",
          "name": "stderr",
          "text": [
            "100%|██████████| 625/625 [00:19<00:00, 32.07it/s]"
          ]
        },
        {
          "output_type": "stream",
          "name": "stdout",
          "text": [
            "\n",
            "Epoch 195 | Train Loss: 0.0604 | Top-1 Acc: 98.64% | Top-5 Acc: 99.79% | Superclass Acc: 99.00% "
          ]
        },
        {
          "output_type": "stream",
          "name": "stderr",
          "text": [
            "\n"
          ]
        },
        {
          "output_type": "stream",
          "name": "stdout",
          "text": [
            "| Val Loss: 1.2788 | Top-1 Acc: 70.27% | Top-5 Acc: 89.91% | Superclass Acc: 80.49%\n"
          ]
        },
        {
          "output_type": "stream",
          "name": "stderr",
          "text": [
            "100%|██████████| 625/625 [00:19<00:00, 32.02it/s]"
          ]
        },
        {
          "output_type": "stream",
          "name": "stdout",
          "text": [
            "\n",
            "Epoch 196 | Train Loss: 0.0611 | Top-1 Acc: 98.64% | Top-5 Acc: 99.77% | Superclass Acc: 98.97% "
          ]
        },
        {
          "output_type": "stream",
          "name": "stderr",
          "text": [
            "\n"
          ]
        },
        {
          "output_type": "stream",
          "name": "stdout",
          "text": [
            "| Val Loss: 1.2757 | Top-1 Acc: 70.25% | Top-5 Acc: 89.84% | Superclass Acc: 80.44%\n"
          ]
        },
        {
          "output_type": "stream",
          "name": "stderr",
          "text": [
            "100%|██████████| 625/625 [00:19<00:00, 31.80it/s]"
          ]
        },
        {
          "output_type": "stream",
          "name": "stdout",
          "text": [
            "\n",
            "Epoch 197 | Train Loss: 0.0601 | Top-1 Acc: 98.66% | Top-5 Acc: 99.78% | Superclass Acc: 99.03% "
          ]
        },
        {
          "output_type": "stream",
          "name": "stderr",
          "text": [
            "\n"
          ]
        },
        {
          "output_type": "stream",
          "name": "stdout",
          "text": [
            "| Val Loss: 1.2795 | Top-1 Acc: 70.32% | Top-5 Acc: 89.76% | Superclass Acc: 80.46%\n"
          ]
        },
        {
          "output_type": "stream",
          "name": "stderr",
          "text": [
            "100%|██████████| 625/625 [00:19<00:00, 32.04it/s]"
          ]
        },
        {
          "output_type": "stream",
          "name": "stdout",
          "text": [
            "\n",
            "Epoch 198 | Train Loss: 0.0605 | Top-1 Acc: 98.64% | Top-5 Acc: 99.77% | Superclass Acc: 98.94% "
          ]
        },
        {
          "output_type": "stream",
          "name": "stderr",
          "text": [
            "\n"
          ]
        },
        {
          "output_type": "stream",
          "name": "stdout",
          "text": [
            "| Val Loss: 1.2769 | Top-1 Acc: 70.37% | Top-5 Acc: 89.90% | Superclass Acc: 80.52%\n"
          ]
        },
        {
          "output_type": "stream",
          "name": "stderr",
          "text": [
            "100%|██████████| 625/625 [00:19<00:00, 31.95it/s]"
          ]
        },
        {
          "output_type": "stream",
          "name": "stdout",
          "text": [
            "\n",
            "Epoch 199 | Train Loss: 0.0614 | Top-1 Acc: 98.57% | Top-5 Acc: 99.75% | Superclass Acc: 98.92% "
          ]
        },
        {
          "output_type": "stream",
          "name": "stderr",
          "text": [
            "\n"
          ]
        },
        {
          "output_type": "stream",
          "name": "stdout",
          "text": [
            "| Val Loss: 1.2734 | Top-1 Acc: 70.43% | Top-5 Acc: 89.93% | Superclass Acc: 80.46%\n"
          ]
        },
        {
          "output_type": "stream",
          "name": "stderr",
          "text": [
            "100%|██████████| 625/625 [00:19<00:00, 31.75it/s]"
          ]
        },
        {
          "output_type": "stream",
          "name": "stdout",
          "text": [
            "\n",
            "Epoch 200 | Train Loss: 0.0595 | Top-1 Acc: 98.62% | Top-5 Acc: 99.76% | Superclass Acc: 98.97% "
          ]
        },
        {
          "output_type": "stream",
          "name": "stderr",
          "text": [
            "\n"
          ]
        },
        {
          "output_type": "stream",
          "name": "stdout",
          "text": [
            "| Val Loss: 1.2743 | Top-1 Acc: 70.40% | Top-5 Acc: 89.84% | Superclass Acc: 80.44%\n"
          ]
        }
      ]
    },
    {
      "cell_type": "code",
      "source": [
        "transform = transforms.Compose([\n",
        "    transforms.ToTensor(),\n",
        "    transforms.Normalize((0.5071, 0.4865, 0.4409), (0.2673, 0.2564, 0.2762)),\n",
        "])\n",
        "\n",
        "test_cifar100 = datasets.CIFAR100(root='./data', train=False, download=True, transform=transform)\n",
        "test_loader = DataLoader(test_cifar100, batch_size=batch_size, shuffle=False, num_workers=4)"
      ],
      "metadata": {
        "id": "6ySBSUk8uf1l",
        "colab": {
          "base_uri": "https://localhost:8080/"
        },
        "outputId": "66377004-0979-40a5-f4bd-63dde18f6ec8"
      },
      "execution_count": null,
      "outputs": [
        {
          "output_type": "stream",
          "name": "stdout",
          "text": [
            "Files already downloaded and verified\n"
          ]
        }
      ]
    },
    {
      "cell_type": "code",
      "source": [
        "class_to_superclass = {\n",
        "    49: 10, 33: 10, 72: 0, 51: 4, 71: 10, 92: 2, 15: 11, 14: 7, 23: 10,\n",
        "    0: 4, 75: 12, 81: 19, 69: 19, 40: 5, 43: 8, 97: 8, 70: 2, 53: 4, 29: 15,\n",
        "    21: 11, 16: 3, 39: 5, 8: 18, 20: 6, 61: 3, 41: 19, 93: 15, 56: 17, 73: 1,\n",
        "    58: 18, 11: 14, 25: 6, 37: 9, 63: 12, 24: 7, 22: 5, 17: 9, 4: 0, 6: 7, 9: 3,\n",
        "    57: 4, 2: 14, 32: 1, 52: 17, 42: 8, 77: 13, 27: 15, 65: 16, 7: 7, 35: 14, 82: 2,\n",
        "    66: 12, 90: 18, 67: 1, 91: 1, 10: 3, 78: 15, 54: 2, 89: 19, 18: 7, 13: 18, 50: 16,\n",
        "    26: 13, 83: 4, 47: 17, 95: 0, 76: 9, 59: 17, 85: 19, 19: 11, 46: 14, 1: 1, 74: 16,\n",
        "    60: 10, 64: 12, 45: 13, 36: 16, 87: 5, 30: 0, 99: 13, 80: 16, 28: 3, 98: 14, 12: 9,\n",
        "    94: 6, 68: 9, 44: 15, 31: 11, 79: 13, 34: 12, 55: 0, 62: 2, 96: 17, 84: 6, 38: 11,\n",
        "    86: 5, 5: 6, 48: 18, 3: 8, 88: 8\n",
        "}\n",
        "\n",
        "# Top-1 Accuracy\n",
        "def top1_accuracy(outputs, targets):\n",
        "    \"\"\"Compute the Top-1 accuracy\"\"\"\n",
        "    _, predicted = outputs.max(1)\n",
        "    correct = predicted.eq(targets).sum().item()\n",
        "    accuracy = correct / targets.size(0)\n",
        "    return accuracy * 100\n",
        "\n",
        "# Top-5 Accuracy\n",
        "def top5_accuracy(outputs, targets):\n",
        "    \"\"\"Compute the Top-5 accuracy\"\"\"\n",
        "    _, predicted = outputs.topk(5, dim=1)\n",
        "    correct = predicted.eq(targets.view(-1, 1).expand_as(predicted)).sum().item()\n",
        "    accuracy = correct / targets.size(0)\n",
        "    return accuracy * 100\n",
        "\n",
        "# Superclass Accuracy\n",
        "def superclass_accuracy(outputs, targets, class_to_superclass=class_to_superclass):\n",
        "    \"\"\"Compute the Superclass accuracy\"\"\"\n",
        "    _, predicted = outputs.max(1)\n",
        "    predicted_superclasses = torch.tensor([class_to_superclass[p.item()] for p in predicted])\n",
        "    target_superclasses = torch.tensor([class_to_superclass[t.item()] for t in targets])\n",
        "    correct = predicted_superclasses.eq(target_superclasses).sum().item()\n",
        "    accuracy = correct / targets.size(0)\n",
        "    return accuracy * 100\n",
        "\n",
        "def test_evaluate(model, dataloader, device):\n",
        "    model.eval()\n",
        "    val_loss, correct, total = 0, 0, 0\n",
        "    top1_acc, top5_acc, superclass_acc = 0, 0, 0\n",
        "\n",
        "    with torch.no_grad():\n",
        "        for inputs, targets in tqdm(dataloader):\n",
        "            inputs, targets = inputs.to(device), targets.to(device)\n",
        "            outputs = model(inputs)\n",
        "\n",
        "            loss = criterion(outputs, targets)\n",
        "\n",
        "            val_loss += loss.item()\n",
        "            _, predicted = outputs.max(1)\n",
        "            total += targets.size(0)\n",
        "\n",
        "            # Calculate accuracies\n",
        "            top1_acc += top1_accuracy(outputs, targets)\n",
        "            top5_acc += top5_accuracy(outputs, targets)\n",
        "            superclass_acc += superclass_accuracy(outputs, targets, class_to_superclass)\n",
        "\n",
        "    # Calculate average accuracy over all batches\n",
        "    top1_avg = top1_acc / len(dataloader)\n",
        "    top5_avg = top5_acc / len(dataloader)\n",
        "    superclass_avg = superclass_acc / len(dataloader)\n",
        "\n",
        "    print(f'| Test Loss: {val_loss/len(dataloader):.4f} | Test Top-1 Acc: {top1_avg:.2f}% | Test Top-5 Acc: {top5_avg:.2f}% | Test Superclass Acc: {superclass_avg:.2f}%')\n",
        "    return top1_avg, top5_avg, superclass_avg"
      ],
      "metadata": {
        "id": "G9UVligTYjab"
      },
      "execution_count": null,
      "outputs": []
    },
    {
      "cell_type": "code",
      "source": [
        "top1_test, top5_test, superclass_test = test_evaluate(model, test_loader, device)\n",
        "print(f'Accuracy Test: {top1_test}, Top 5 Test: {top5_test}, Superclass Accuracy Test: {superclass_test}')"
      ],
      "metadata": {
        "id": "oya5fx1daReP",
        "colab": {
          "base_uri": "https://localhost:8080/"
        },
        "outputId": "e3078a40-0b6c-4a65-ba85-da60b5408231"
      },
      "execution_count": null,
      "outputs": [
        {
          "output_type": "stream",
          "name": "stderr",
          "text": [
            "100%|██████████| 157/157 [00:01<00:00, 105.50it/s]"
          ]
        },
        {
          "output_type": "stream",
          "name": "stdout",
          "text": [
            "| Test Loss: 1.2726 | Test Top-1 Acc: 70.71% | Test Top-5 Acc: 89.50% | Test Superclass Acc: 80.18%\n",
            "Accuracy Test: 70.71058917197452, Top 5 Test: 89.50039808917198, Superclass Accuracy Test: 80.17515923566879\n"
          ]
        },
        {
          "output_type": "stream",
          "name": "stderr",
          "text": [
            "\n"
          ]
        }
      ]
    },
    {
      "cell_type": "code",
      "source": [],
      "metadata": {
        "id": "GncSCaWVfsw_"
      },
      "execution_count": null,
      "outputs": []
    }
  ]
}